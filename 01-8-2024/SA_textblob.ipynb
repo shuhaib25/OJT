{
  "nbformat": 4,
  "nbformat_minor": 0,
  "metadata": {
    "colab": {
      "provenance": []
    },
    "kernelspec": {
      "name": "python3",
      "display_name": "Python 3"
    },
    "language_info": {
      "name": "python"
    }
  },
  "cells": [
    {
      "cell_type": "code",
      "execution_count": 1,
      "metadata": {
        "colab": {
          "base_uri": "https://localhost:8080/"
        },
        "id": "NWbew36iRZxw",
        "outputId": "cd689aa7-c8f1-4535-a130-cb3e95d67153"
      },
      "outputs": [
        {
          "output_type": "stream",
          "name": "stdout",
          "text": [
            "Text: I love NLP! It works great and I'm very satisfied.\n",
            "Sentiment: Positive\n",
            "\n",
            "Text: This is my first experience doing sentiment analysis; I am a little bit disappointed.\n",
            "Sentiment: Negative\n",
            "\n",
            "Text: The NLP sentiment analysis is quite interesting; it is neither good nor bad.\n",
            "Sentiment: Positive\n",
            "\n"
          ]
        }
      ],
      "source": [
        "from textblob import TextBlob\n",
        "\n",
        "# Sample texts\n",
        "texts = [\n",
        "    \"I love NLP! It works great and I'm very satisfied.\",\n",
        "    \"This is my first experience doing sentiment analysis; I am a little bit disappointed.\",\n",
        "    \"The NLP sentiment analysis is quite interesting; it is neither good nor bad.\"\n",
        "]\n",
        "\n",
        "# Function to do the sentiment analysis\n",
        "def analyze_sentiment(text):\n",
        "    analysis = TextBlob(text)\n",
        "    polarity = analysis.sentiment.polarity\n",
        "\n",
        "    # Determine sentiment based on polarity\n",
        "    if polarity > 0:\n",
        "        sentiment = \"Positive\"\n",
        "    elif polarity < 0:\n",
        "        sentiment = \"Negative\"\n",
        "    else:\n",
        "        sentiment = \"Neutral\"\n",
        "\n",
        "    return sentiment\n",
        "\n",
        "# Analyze the sentiment of each text\n",
        "for text in texts:\n",
        "    sentiment = analyze_sentiment(text)\n",
        "    print(f\"Text: {text}\\nSentiment: {sentiment}\\n\")\n"
      ]
    }
  ]
}