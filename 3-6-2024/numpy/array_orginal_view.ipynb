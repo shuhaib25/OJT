{
 "cells": [
  {
   "cell_type": "code",
   "execution_count": 1,
   "id": "20ca2ee7-7c86-4b5c-bde9-648ef9a836b0",
   "metadata": {},
   "outputs": [
    {
     "name": "stdout",
     "output_type": "stream",
     "text": [
      "orginal array : [1 2 3 4 5 6]\n"
     ]
    }
   ],
   "source": [
    "import numpy as np\n",
    "\n",
    "#create an orginal array\n",
    "original_array = np.array([1,2,3,4,5,6])\n",
    "print(\"orginal array :\",original_array)"
   ]
  },
  {
   "cell_type": "code",
   "execution_count": 5,
   "id": "085e2a94-969c-492a-9009-5b9e7637ee30",
   "metadata": {},
   "outputs": [
    {
     "name": "stdout",
     "output_type": "stream",
     "text": [
      "[1 2 3 4 5 6]\n"
     ]
    }
   ],
   "source": [
    "#cretae a view for the array\n",
    "view_array = original_array.view()\n",
    "print(view_array)"
   ]
  },
  {
   "cell_type": "code",
   "execution_count": 9,
   "id": "c258e51b-9127-4cd7-b089-272493c828e9",
   "metadata": {},
   "outputs": [
    {
     "name": "stdout",
     "output_type": "stream",
     "text": [
      "[ 1  2 30  4  5  6]\n",
      "[ 1  2 30  4  5  6]\n"
     ]
    }
   ],
   "source": [
    "view_array[2]=30\n",
    "print(view_array)\n",
    "print(original_array)"
   ]
  },
  {
   "cell_type": "code",
   "execution_count": 13,
   "id": "a6031ce0-6db5-47fc-ab6d-988a44e32efd",
   "metadata": {},
   "outputs": [
    {
     "name": "stdout",
     "output_type": "stream",
     "text": [
      "[ 1  2 30  4  5  6]\n"
     ]
    }
   ],
   "source": [
    "#create a copy of orginal array\n",
    "copy_array = original_array.copy()\n",
    "print(copy_array)"
   ]
  },
  {
   "cell_type": "code",
   "execution_count": 15,
   "id": "e4a3579f-3ea7-48dd-bd55-a08f2f1a143b",
   "metadata": {},
   "outputs": [
    {
     "name": "stdout",
     "output_type": "stream",
     "text": [
      "[10  2 30  4  5  6]\n",
      "[ 1  2 30  4  5  6]\n"
     ]
    }
   ],
   "source": [
    "#modify element in copy array\n",
    "copy_array[0]=10\n",
    "print(copy_array)\n",
    "print(original_array)"
   ]
  },
  {
   "cell_type": "code",
   "execution_count": null,
   "id": "d15e8781-db09-4426-aaaf-26c6ec3a913f",
   "metadata": {},
   "outputs": [],
   "source": []
  }
 ],
 "metadata": {
  "kernelspec": {
   "display_name": "Python 3 (ipykernel)",
   "language": "python",
   "name": "python3"
  },
  "language_info": {
   "codemirror_mode": {
    "name": "ipython",
    "version": 3
   },
   "file_extension": ".py",
   "mimetype": "text/x-python",
   "name": "python",
   "nbconvert_exporter": "python",
   "pygments_lexer": "ipython3",
   "version": "3.11.7"
  }
 },
 "nbformat": 4,
 "nbformat_minor": 5
}
