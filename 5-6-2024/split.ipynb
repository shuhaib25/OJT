{
 "cells": [
  {
   "cell_type": "code",
   "execution_count": 9,
   "id": "f050262c-be46-4624-87c2-5b314b5932af",
   "metadata": {},
   "outputs": [
    {
     "name": "stdout",
     "output_type": "stream",
     "text": [
      "[1 2 3 4 5 6 7 8 9]\n",
      "[array([1, 2, 3]), array([4, 5, 6]), array([7, 8, 9])]\n"
     ]
    }
   ],
   "source": [
    "import numpy as np\n",
    "\n",
    "#split work in numpy\n",
    "\n",
    "array = np.array([1,2,3,4,5,6,7,8,9])\n",
    "\n",
    "split_array = np.split(array,3)\n",
    "print(array)\n",
    "print(split_array)"
   ]
  },
  {
   "cell_type": "code",
   "execution_count": 17,
   "id": "93965965-b4d4-4c1a-a5ed-688a7133cd42",
   "metadata": {},
   "outputs": [
    {
     "name": "stdout",
     "output_type": "stream",
     "text": [
      "[array([[1, 2, 3],\n",
      "       [4, 5, 6]]), array([[ 7,  8,  9],\n",
      "       [10, 11, 12]])]\n"
     ]
    }
   ],
   "source": [
    "#multi diementional array\n",
    "#horizontally and vertically\n",
    "\n",
    "array_2D = np.array([[1,2,3],[4,5,6],[7,8,9],[10,11,12]])\n",
    "vsplit_array = np.vsplit(array_2D,2)\n",
    "print(vsplit_array)"
   ]
  },
  {
   "cell_type": "code",
   "execution_count": null,
   "id": "2cd1c9a5-e454-4099-ae8f-57283c35b94a",
   "metadata": {},
   "outputs": [],
   "source": []
  }
 ],
 "metadata": {
  "kernelspec": {
   "display_name": "Python 3 (ipykernel)",
   "language": "python",
   "name": "python3"
  },
  "language_info": {
   "codemirror_mode": {
    "name": "ipython",
    "version": 3
   },
   "file_extension": ".py",
   "mimetype": "text/x-python",
   "name": "python",
   "nbconvert_exporter": "python",
   "pygments_lexer": "ipython3",
   "version": "3.11.7"
  }
 },
 "nbformat": 4,
 "nbformat_minor": 5
}
