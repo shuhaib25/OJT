{
  "nbformat": 4,
  "nbformat_minor": 0,
  "metadata": {
    "colab": {
      "provenance": []
    },
    "kernelspec": {
      "name": "python3",
      "display_name": "Python 3"
    },
    "language_info": {
      "name": "python"
    }
  },
  "cells": [
    {
      "cell_type": "code",
      "execution_count": 2,
      "metadata": {
        "colab": {
          "base_uri": "https://localhost:8080/"
        },
        "id": "Et1HsfETlam6",
        "outputId": "c7770887-02b8-4735-d8a3-754ef9c7998e"
      },
      "outputs": [
        {
          "output_type": "stream",
          "name": "stdout",
          "text": [
            "      name  age         place  salary  empty\n",
            "0   navani   23     kolathara   45000    NaN\n",
            "1  shuhaib   23      thikkodi   50000    NaN\n",
            "2    ayana   24    cherukulam   55000    NaN\n",
            "3    akash   24        kovoor   60000    NaN\n",
            "4   sharon   23  malapparamba   65000    NaN\n",
            "5   akshay   23        mavoor   70000    NaN\n",
            "      name  age         place  salary  empty\n",
            "0   navani   23     kolathara   45000    NaN\n",
            "1  shuhaib   23      thikkodi   50000    NaN\n",
            "2    ayana   24    cherukulam   55000    NaN\n",
            "3    akash   24        kovoor   60000    NaN\n",
            "4   sharon   23  malapparamba   65000    NaN\n",
            "5   akshay   23        mavoor   70000    NaN\n"
          ]
        }
      ],
      "source": [
        "import pandas as pd\n",
        "\n",
        "#read csv\n",
        "df=pd.read_csv('xldata.csv')\n",
        "print(df)\n",
        "\n",
        "#clean the empty columns\n",
        "df_cleaned_row=df.dropna(how=\"all\")\n",
        "\n",
        "df_cleaned_col = df.dropna(axis=1, how='all')\n",
        "print(df_cleaned_row)"
      ]
    },
    {
      "cell_type": "code",
      "source": [
        "df_cleaned_col = df.dropna(axis=1, how='all')\n",
        "print(df_cleaned_col)"
      ],
      "metadata": {
        "colab": {
          "base_uri": "https://localhost:8080/"
        },
        "id": "Pdleh7eEnDdj",
        "outputId": "21bb5e55-61fe-4ba4-eeb3-3525654b0061"
      },
      "execution_count": 3,
      "outputs": [
        {
          "output_type": "stream",
          "name": "stdout",
          "text": [
            "      name  age         place  salary\n",
            "0   navani   23     kolathara   45000\n",
            "1  shuhaib   23      thikkodi   50000\n",
            "2    ayana   24    cherukulam   55000\n",
            "3    akash   24        kovoor   60000\n",
            "4   sharon   23  malapparamba   65000\n",
            "5   akshay   23        mavoor   70000\n"
          ]
        }
      ]
    },
    {
      "cell_type": "code",
      "source": [
        "#filling data intothe empty columns\n",
        "df_filled_data = df.fillna(0)\n",
        "print(df_filled_data)"
      ],
      "metadata": {
        "colab": {
          "base_uri": "https://localhost:8080/"
        },
        "id": "jNLjEppTnH0m",
        "outputId": "e1201bb2-0498-4062-e125-d3e2f1b54a5c"
      },
      "execution_count": 5,
      "outputs": [
        {
          "output_type": "stream",
          "name": "stdout",
          "text": [
            "      name  age         place  salary  empty\n",
            "0   navani   23     kolathara   45000    0.0\n",
            "1  shuhaib   23      thikkodi   50000    0.0\n",
            "2    ayana   24    cherukulam   55000    0.0\n",
            "3    akash   24        kovoor   60000    0.0\n",
            "4   sharon   23  malapparamba   65000    0.0\n",
            "5   akshay   23        mavoor   70000    0.0\n"
          ]
        }
      ]
    }
  ]
}