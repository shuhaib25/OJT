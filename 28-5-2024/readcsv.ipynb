{
  "nbformat": 4,
  "nbformat_minor": 0,
  "metadata": {
    "colab": {
      "provenance": []
    },
    "kernelspec": {
      "name": "python3",
      "display_name": "Python 3"
    },
    "language_info": {
      "name": "python"
    }
  },
  "cells": [
    {
      "cell_type": "code",
      "execution_count": 1,
      "metadata": {
        "id": "amNhyebzgrZZ",
        "colab": {
          "base_uri": "https://localhost:8080/"
        },
        "outputId": "99437ee2-8a4b-4c19-9647-bef20be438b2"
      },
      "outputs": [
        {
          "output_type": "stream",
          "name": "stdout",
          "text": [
            "      name  age         place  salary\n",
            "0   navani   23     kolathara   45000\n",
            "1  shuhaib   23      thikkodi   50000\n",
            "2    ayana   24    cherukulam   55000\n",
            "3    akash   24        kovoor   60000\n",
            "4   sharon   23  malapparamba   65000\n",
            "5   akshay   23        mavoor   70000\n"
          ]
        }
      ],
      "source": [
        "import pandas as pd\n",
        "\n",
        "#read csv\n",
        "df=pd.read_csv('xldata.csv')\n",
        "print(df)"
      ]
    },
    {
      "cell_type": "code",
      "source": [
        "import pandas as pd\n",
        "\n",
        "#read csv\n",
        "df=pd.read_csv('xldata.csv',usecols= ['name','age','place'])\n",
        "print(df)"
      ],
      "metadata": {
        "colab": {
          "base_uri": "https://localhost:8080/"
        },
        "id": "np7B5RqGioxK",
        "outputId": "173f61a0-3702-4409-e3c7-28f95bc1b35a"
      },
      "execution_count": 5,
      "outputs": [
        {
          "output_type": "stream",
          "name": "stdout",
          "text": [
            "      name  age         place\n",
            "0   navani   23     kolathara\n",
            "1  shuhaib   23      thikkodi\n",
            "2    ayana   24    cherukulam\n",
            "3    akash   24        kovoor\n",
            "4   sharon   23  malapparamba\n",
            "5   akshay   23        mavoor\n"
          ]
        }
      ]
    }
  ]
}