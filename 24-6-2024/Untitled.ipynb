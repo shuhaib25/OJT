{
 "cells": [
  {
   "cell_type": "code",
   "execution_count": 2,
   "id": "48e33f33-4779-456a-8706-f0601327432b",
   "metadata": {},
   "outputs": [],
   "source": [
    "import pandas as pd\n",
    "from sklearn.model_selection import train_test_split\n",
    "from sklearn.tree import DecisionTreeClassifier\n",
    "from sklearn.metrics import accuracy_score, classification_report,confusion_matrix,precision_score,recall_score,f1_score\n",
    "from sklearn.model_selection import GridSearchCV"
   ]
  },
  {
   "cell_type": "code",
   "execution_count": 3,
   "id": "203d21e1-02dd-4bb6-ac14-39d381f1a6d7",
   "metadata": {},
   "outputs": [],
   "source": [
    "#load the dataset\n",
    "data=pd.read_csv('data.csv')"
   ]
  },
  {
   "cell_type": "code",
   "execution_count": 14,
   "id": "b687acfd-419e-48d1-b93b-ba9346482b8f",
   "metadata": {},
   "outputs": [
    {
     "name": "stdout",
     "output_type": "stream",
     "text": [
      "accuracy:1.00\n",
      "classification_report:\n",
      "              precision    recall  f1-score   support\n",
      "\n",
      "           0       1.00      1.00      1.00         1\n",
      "           1       1.00      1.00      1.00         1\n",
      "\n",
      "    accuracy                           1.00         2\n",
      "   macro avg       1.00      1.00      1.00         2\n",
      "weighted avg       1.00      1.00      1.00         2\n",
      "\n",
      "confusion matrix:\n",
      "[[1 0]\n",
      " [0 1]]\n",
      "precision: 1.0\n",
      "recall: 1.0\n",
      "f1score: <function f1_score at 0x00000212E8731DA0>\n"
     ]
    }
   ],
   "source": [
    "#select the features which need to beused in the case\n",
    "x = data[['loan_amount','interest_rate','term','income','credit_score','age','employment_length']]\n",
    "y = data['loan_repaid']\n",
    "\n",
    "#split train_tests\n",
    "x_train,x_test,y_train,y_test = train_test_split(x,y, test_size=0.2, random_state=42)\n",
    "\n",
    "#initiate a model\n",
    "model = DecisionTreeClassifier(random_state=42)\n",
    "\n",
    "#train the model\n",
    "model.fit(x_train,y_train)\n",
    "\n",
    "#make a prediction\n",
    "y_pred = model.predict(x_test)\n",
    "\n",
    "accuracy = accuracy_score(y_test,y_pred)\n",
    "print(f\"accuracy:{accuracy:.2f}\")\n",
    "print(\"classification_report:\")\n",
    "print(classification_report(y_test,y_pred))\n",
    "\n",
    "print(\"confusion matrix:\")\n",
    "conf_matrix = confusion_matrix(y_test,y_pred)\n",
    "print(conf_matrix)\n",
    "\n",
    "precision = precision_score(y_test,y_pred)\n",
    "print(\"precision:\",precision)\n",
    "\n",
    "#recall\n",
    "recall = recall_score(y_test,y_pred)\n",
    "print(\"recall:\",recall)\n",
    "\n",
    "#f1score\n",
    "F1Score = f1_score(y_test,y_pred)\n",
    "print(\"f1score:\",f1_score)\n"
   ]
  },
  {
   "cell_type": "code",
   "execution_count": null,
   "id": "627b08a2-2699-4127-be77-be04e1af70e8",
   "metadata": {},
   "outputs": [],
   "source": []
  }
 ],
 "metadata": {
  "kernelspec": {
   "display_name": "Python 3 (ipykernel)",
   "language": "python",
   "name": "python3"
  },
  "language_info": {
   "codemirror_mode": {
    "name": "ipython",
    "version": 3
   },
   "file_extension": ".py",
   "mimetype": "text/x-python",
   "name": "python",
   "nbconvert_exporter": "python",
   "pygments_lexer": "ipython3",
   "version": "3.11.7"
  }
 },
 "nbformat": 4,
 "nbformat_minor": 5
}
