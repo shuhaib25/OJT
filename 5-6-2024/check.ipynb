{
 "cells": [
  {
   "cell_type": "code",
   "execution_count": 11,
   "id": "93525ea4-c143-489f-8f80-1dd69d430aa8",
   "metadata": {},
   "outputs": [
    {
     "name": "stdout",
     "output_type": "stream",
     "text": [
      "[20 17]\n"
     ]
    }
   ],
   "source": [
    "import numpy as np\n",
    "\n",
    "array = np.array([10,20,12,15,14,17])\n",
    "#check the 20 in this array\n",
    "#where():use to check the particular condition for filter and condition\n",
    "\n",
    "# elements greater than 15 for the above array\n",
    "elements = np.where(array>15)\n",
    "print(array[elements])"
   ]
  },
  {
   "cell_type": "code",
   "execution_count": null,
   "id": "de6430a8-7c76-445f-aa49-d316221307fb",
   "metadata": {},
   "outputs": [],
   "source": []
  }
 ],
 "metadata": {
  "kernelspec": {
   "display_name": "Python 3 (ipykernel)",
   "language": "python",
   "name": "python3"
  },
  "language_info": {
   "codemirror_mode": {
    "name": "ipython",
    "version": 3
   },
   "file_extension": ".py",
   "mimetype": "text/x-python",
   "name": "python",
   "nbconvert_exporter": "python",
   "pygments_lexer": "ipython3",
   "version": "3.11.7"
  }
 },
 "nbformat": 4,
 "nbformat_minor": 5
}
