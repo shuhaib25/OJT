{
 "cells": [
  {
   "cell_type": "code",
   "execution_count": 5,
   "id": "81a7eb9a-2daf-4e61-a6f2-8e0dabc1cb90",
   "metadata": {},
   "outputs": [],
   "source": [
    "#Question 4\n",
    "\n",
    "import tensorflow as tf\n",
    "\n",
    "def simple_multi_class_metrics(y_true, y_pred, num_classes):\n",
    "    # Convert predictions and true labels to one-hot encoding\n",
    "    y_pred_onehot = tf.one_hot(y_pred, depth=num_classes)\n",
    "    y_true_onehot = tf.one_hot(y_true, depth=num_classes)\n",
    "\n",
    "    # Calculate true positives, false positives, and false negatives\n",
    "    tp = tf.reduce_sum(y_true_onehot * y_pred_onehot, axis=0)\n",
    "    fp = tf.reduce_sum((1 - y_true_onehot) * y_pred_onehot, axis=0)\n",
    "    fn = tf.reduce_sum(y_true_onehot * (1 - y_pred_onehot), axis=0)\n",
    "\n",
    "    # Calculate precision, recall, and F1-score for each class\n",
    "    precision = tp / (tp + fp + tf.keras.backend.epsilon())\n",
    "    recall = tp / (tp + fn + tf.keras.backend.epsilon())\n",
    "    f1_score = 2 * precision * recall / (precision + recall + tf.keras.backend.epsilon())\n",
    "\n",
    "    # Return metrics as a dictionary\n",
    "    metrics = {\n",
    "        'Precision': precision.numpy(),\n",
    "        'Recall': recall.numpy(),\n",
    "        'F1-Score': f1_score.numpy()\n",
    "    }\n",
    "\n",
    "    return metrics\n",
    "\n",
    "\n",
    "\n",
    "\n"
   ]
  },
  {
   "cell_type": "code",
   "execution_count": 7,
   "id": "e93008eb-aa43-4506-86ed-4ac05769f97f",
   "metadata": {},
   "outputs": [
    {
     "name": "stdout",
     "output_type": "stream",
     "text": [
      "Precision:  [0.6666667 0.        0.       ]\n",
      "Recall:  [1. 0. 0.]\n",
      "F1-Score:  [0.79999995 0.         0.        ]\n"
     ]
    }
   ],
   "source": [
    "# Example usage:\n",
    "y_true = tf.constant([0, 1, 2, 0, 1, 2])  # Example true labels\n",
    "y_pred = tf.constant([0, 2, 1, 0, 0, 1])  # Example predicted labels\n",
    "num_classes = 3  # Number of classes in the classification problem\n",
    "\n",
    "metrics = simple_multi_class_metrics(y_true, y_pred, num_classes)\n",
    "print(\"Precision: \", metrics['Precision'])\n",
    "print(\"Recall: \", metrics['Recall'])\n",
    "print(\"F1-Score: \", metrics['F1-Score'])"
   ]
  },
  {
   "cell_type": "code",
   "execution_count": null,
   "id": "a597671a-593f-4608-9bfd-3931697123a6",
   "metadata": {},
   "outputs": [],
   "source": []
  }
 ],
 "metadata": {
  "kernelspec": {
   "display_name": "Python 3 (ipykernel)",
   "language": "python",
   "name": "python3"
  },
  "language_info": {
   "codemirror_mode": {
    "name": "ipython",
    "version": 3
   },
   "file_extension": ".py",
   "mimetype": "text/x-python",
   "name": "python",
   "nbconvert_exporter": "python",
   "pygments_lexer": "ipython3",
   "version": "3.11.7"
  }
 },
 "nbformat": 4,
 "nbformat_minor": 5
}
