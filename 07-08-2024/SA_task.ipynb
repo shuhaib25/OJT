{
  "nbformat": 4,
  "nbformat_minor": 0,
  "metadata": {
    "colab": {
      "provenance": []
    },
    "kernelspec": {
      "name": "python3",
      "display_name": "Python 3"
    },
    "language_info": {
      "name": "python"
    }
  },
  "cells": [
    {
      "cell_type": "code",
      "execution_count": null,
      "metadata": {
        "colab": {
          "base_uri": "https://localhost:8080/"
        },
        "id": "k67uMq1fURlT",
        "outputId": "982a0f74-3f9e-4d76-93b0-dad263b7878d"
      },
      "outputs": [
        {
          "output_type": "stream",
          "name": "stdout",
          "text": [
            "Accuracy: 0.895\n",
            "Classification Report:\n",
            "              precision    recall  f1-score   support\n",
            "\n",
            "           0       0.90      0.88      0.89      4961\n",
            "           1       0.89      0.91      0.90      5039\n",
            "\n",
            "    accuracy                           0.90     10000\n",
            "   macro avg       0.90      0.89      0.89     10000\n",
            "weighted avg       0.90      0.90      0.89     10000\n",
            "\n",
            "New Reviews: ['The movie was boring! ', 'The story was good ']\n",
            "Predictions: ['negative' 'positive']\n"
          ]
        }
      ],
      "source": [
        "import pandas as pd\n",
        "import re\n",
        "from sklearn.model_selection import train_test_split\n",
        "from sklearn.preprocessing import LabelEncoder\n",
        "from sklearn.feature_extraction.text import TfidfVectorizer\n",
        "from sklearn.linear_model import LogisticRegression\n",
        "from sklearn.metrics import accuracy_score, classification_report\n",
        "\n",
        "# Load the dataset\n",
        "data = pd.read_csv('IMDB Dataset.csv')\n",
        "\n",
        "# Function to clean text data\n",
        "def clean_text(text):\n",
        "    text = re.sub(r'<br />', ' ', text)  # Remove HTML tags\n",
        "    text = re.sub(r'[^a-zA-Z\\s]', '', text)  # Remove punctuation and numbers\n",
        "    text = text.lower()  # Convert to lowercase\n",
        "    return text\n",
        "\n",
        "# Clean the reviews\n",
        "data['review'] = data['review'].apply(clean_text)\n",
        "\n",
        "# Encode the sentiment labels\n",
        "label_encoder = LabelEncoder()\n",
        "data['sentiment'] = label_encoder.fit_transform(data['sentiment'])\n",
        "\n",
        "# Split the data into training and testing sets\n",
        "X_train, X_test, y_train, y_test = train_test_split(data['review'], data['sentiment'], test_size=0.2, random_state=42)\n",
        "\n",
        "# Vectorize the text data using TF-IDF\n",
        "tfidf_vectorizer = TfidfVectorizer(max_features=5000)\n",
        "X_train_tfidf = tfidf_vectorizer.fit_transform(X_train)\n",
        "X_test_tfidf = tfidf_vectorizer.transform(X_test)\n",
        "\n",
        "# Train a logistic regression classifier\n",
        "classifier = LogisticRegression()\n",
        "classifier.fit(X_train_tfidf, y_train)\n",
        "\n",
        "# Make predictions on the test set\n",
        "y_pred = classifier.predict(X_test_tfidf)\n",
        "\n",
        "# Evaluate the model\n",
        "accuracy = accuracy_score(y_test, y_pred)\n",
        "report = classification_report(y_test, y_pred)\n",
        "\n",
        "# Print the results\n",
        "print(f'Accuracy: {accuracy}')\n",
        "print('Classification Report:')\n",
        "print(report)\n",
        "\n",
        "# Function to make predictions on new reviews\n",
        "def predict_sentiment(reviews):\n",
        "    reviews_clean = [clean_text(review) for review in reviews]\n",
        "    reviews_tfidf = tfidf_vectorizer.transform(reviews_clean)\n",
        "    predictions = classifier.predict(reviews_tfidf)\n",
        "    sentiments = label_encoder.inverse_transform(predictions)\n",
        "    return sentiments\n",
        "\n",
        "# Example usage: Predict sentiment of new reviews\n",
        "new_reviews = [\n",
        "    \"The movie was boring! \",\n",
        "    \"The story was good \"\n",
        "]\n",
        "predictions = predict_sentiment(new_reviews)\n",
        "print(f'New Reviews: {new_reviews}')\n",
        "print(f'Predictions: {predictions}')"
      ]
    }
  ]
}