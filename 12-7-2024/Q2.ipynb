{
 "cells": [
  {
   "cell_type": "markdown",
   "id": "5bf5e7fe-0d3c-4170-8e06-058b80883786",
   "metadata": {},
   "source": [
    "## Import necessary libraries"
   ]
  },
  {
   "cell_type": "code",
   "execution_count": 53,
   "id": "d2e10c9f-fc83-4452-8227-57f811387cdc",
   "metadata": {},
   "outputs": [],
   "source": [
    "import pandas as pd\n",
    "import numpy as np\n",
    "import tensorflow as tf\n",
    "from sklearn.model_selection import train_test_split\n",
    "from sklearn.preprocessing import StandardScaler\n",
    "from tensorflow.keras.models import Sequential\n",
    "from tensorflow.keras.layers import Dense"
   ]
  },
  {
   "cell_type": "markdown",
   "id": "948ae6ca-7cd4-4e57-8226-ab03567d13d1",
   "metadata": {},
   "source": [
    "## Load housing dataset"
   ]
  },
  {
   "cell_type": "code",
   "execution_count": 56,
   "id": "07130a0e-24b3-4c64-a55e-958c9495ea55",
   "metadata": {},
   "outputs": [],
   "source": [
    "df = pd.read_csv('housing_prices.csv')"
   ]
  },
  {
   "cell_type": "markdown",
   "id": "6894dd60-7a67-48c3-adbb-0470ab50be2d",
   "metadata": {},
   "source": [
    "## Preprocess the data"
   ]
  },
  {
   "cell_type": "code",
   "execution_count": 59,
   "id": "fcfc2977-5848-4e68-9f8c-ed13400faa1e",
   "metadata": {},
   "outputs": [],
   "source": [
    "df = pd.get_dummies(df, columns=['Location'], drop_first=True)"
   ]
  },
  {
   "cell_type": "markdown",
   "id": "1a658321-70be-4e4d-946a-61de0d4a804f",
   "metadata": {},
   "source": [
    "## Separate features and target"
   ]
  },
  {
   "cell_type": "code",
   "execution_count": 62,
   "id": "d61a1c6a-969d-4875-9f5a-79c12dcdd62b",
   "metadata": {},
   "outputs": [],
   "source": [
    "X = df.drop('Price', axis=1)\n",
    "y = df['Price']"
   ]
  },
  {
   "cell_type": "markdown",
   "id": "b45eaea8-8580-4a42-b891-7cb6680559cd",
   "metadata": {},
   "source": [
    "## Normalize numerical inputs"
   ]
  },
  {
   "cell_type": "code",
   "execution_count": 65,
   "id": "cf0b9246-9fa2-4f9d-97e9-2c31064734bd",
   "metadata": {},
   "outputs": [],
   "source": [
    "scaler = StandardScaler()\n",
    "X_scaled = scaler.fit_transform(X)"
   ]
  },
  {
   "cell_type": "markdown",
   "id": "a18a1278-8f62-49ac-8bc8-1ba2182849c3",
   "metadata": {},
   "source": [
    "## Split data into train and test sets"
   ]
  },
  {
   "cell_type": "code",
   "execution_count": 68,
   "id": "687a4820-dd1f-4ec0-b035-d5e48371c47d",
   "metadata": {},
   "outputs": [],
   "source": [
    "X_train, X_test, y_train, y_test = train_test_split(X_scaled, y, test_size=0.2, random_state=42)"
   ]
  },
  {
   "cell_type": "markdown",
   "id": "2ca2a9c0-aa60-49e2-a897-616c7f016722",
   "metadata": {},
   "source": [
    "## Build the FNN model"
   ]
  },
  {
   "cell_type": "code",
   "execution_count": 71,
   "id": "2442399d-326f-4df9-b895-7eabade4184b",
   "metadata": {},
   "outputs": [
    {
     "name": "stderr",
     "output_type": "stream",
     "text": [
      "C:\\Users\\USER\\anaconda3\\Lib\\site-packages\\keras\\src\\layers\\core\\dense.py:87: UserWarning: Do not pass an `input_shape`/`input_dim` argument to a layer. When using Sequential models, prefer using an `Input(shape)` object as the first layer in the model instead.\n",
      "  super().__init__(activity_regularizer=activity_regularizer, **kwargs)\n"
     ]
    }
   ],
   "source": [
    "model = Sequential([\n",
    "    Dense(64, activation='relu', input_shape=(X_train.shape[1],)),\n",
    "    Dense(64, activation='relu'),\n",
    "    Dense(1)  # No activation function for output layer (linear activation)\n",
    "])"
   ]
  },
  {
   "cell_type": "markdown",
   "id": "156c22d7-aadb-4be2-8b8b-1177c2bf3f40",
   "metadata": {},
   "source": [
    "## Compile and Train the model"
   ]
  },
  {
   "cell_type": "code",
   "execution_count": 74,
   "id": "aef8e786-3cd7-46be-b702-a39700497724",
   "metadata": {},
   "outputs": [
    {
     "name": "stdout",
     "output_type": "stream",
     "text": [
      "Epoch 1/50\n",
      "\u001b[1m1/1\u001b[0m \u001b[32m━━━━━━━━━━━━━━━━━━━━\u001b[0m\u001b[37m\u001b[0m \u001b[1m2s\u001b[0m 2s/step - loss: 108100116480.0000 - mse: 108100116480.0000 - val_loss: 228049813504.0000 - val_mse: 228049813504.0000\n",
      "Epoch 2/50\n",
      "\u001b[1m1/1\u001b[0m \u001b[32m━━━━━━━━━━━━━━━━━━━━\u001b[0m\u001b[37m\u001b[0m \u001b[1m0s\u001b[0m 100ms/step - loss: 108100059136.0000 - mse: 108100059136.0000 - val_loss: 228049731584.0000 - val_mse: 228049731584.0000\n",
      "Epoch 3/50\n",
      "\u001b[1m1/1\u001b[0m \u001b[32m━━━━━━━━━━━━━━━━━━━━\u001b[0m\u001b[37m\u001b[0m \u001b[1m0s\u001b[0m 125ms/step - loss: 108100018176.0000 - mse: 108100018176.0000 - val_loss: 228049633280.0000 - val_mse: 228049633280.0000\n",
      "Epoch 4/50\n",
      "\u001b[1m1/1\u001b[0m \u001b[32m━━━━━━━━━━━━━━━━━━━━\u001b[0m\u001b[37m\u001b[0m \u001b[1m0s\u001b[0m 112ms/step - loss: 108099969024.0000 - mse: 108099969024.0000 - val_loss: 228049551360.0000 - val_mse: 228049551360.0000\n",
      "Epoch 5/50\n",
      "\u001b[1m1/1\u001b[0m \u001b[32m━━━━━━━━━━━━━━━━━━━━\u001b[0m\u001b[37m\u001b[0m \u001b[1m0s\u001b[0m 108ms/step - loss: 108099928064.0000 - mse: 108099928064.0000 - val_loss: 228049453056.0000 - val_mse: 228049453056.0000\n",
      "Epoch 6/50\n",
      "\u001b[1m1/1\u001b[0m \u001b[32m━━━━━━━━━━━━━━━━━━━━\u001b[0m\u001b[37m\u001b[0m \u001b[1m0s\u001b[0m 94ms/step - loss: 108099887104.0000 - mse: 108099887104.0000 - val_loss: 228049354752.0000 - val_mse: 228049354752.0000\n",
      "Epoch 7/50\n",
      "\u001b[1m1/1\u001b[0m \u001b[32m━━━━━━━━━━━━━━━━━━━━\u001b[0m\u001b[37m\u001b[0m \u001b[1m0s\u001b[0m 110ms/step - loss: 108099854336.0000 - mse: 108099854336.0000 - val_loss: 228049289216.0000 - val_mse: 228049289216.0000\n",
      "Epoch 8/50\n",
      "\u001b[1m1/1\u001b[0m \u001b[32m━━━━━━━━━━━━━━━━━━━━\u001b[0m\u001b[37m\u001b[0m \u001b[1m0s\u001b[0m 105ms/step - loss: 108099796992.0000 - mse: 108099796992.0000 - val_loss: 228049190912.0000 - val_mse: 228049190912.0000\n",
      "Epoch 9/50\n",
      "\u001b[1m1/1\u001b[0m \u001b[32m━━━━━━━━━━━━━━━━━━━━\u001b[0m\u001b[37m\u001b[0m \u001b[1m0s\u001b[0m 106ms/step - loss: 108099772416.0000 - mse: 108099772416.0000 - val_loss: 228049108992.0000 - val_mse: 228049108992.0000\n",
      "Epoch 10/50\n",
      "\u001b[1m1/1\u001b[0m \u001b[32m━━━━━━━━━━━━━━━━━━━━\u001b[0m\u001b[37m\u001b[0m \u001b[1m0s\u001b[0m 105ms/step - loss: 108099723264.0000 - mse: 108099723264.0000 - val_loss: 228049010688.0000 - val_mse: 228049010688.0000\n",
      "Epoch 11/50\n",
      "\u001b[1m1/1\u001b[0m \u001b[32m━━━━━━━━━━━━━━━━━━━━\u001b[0m\u001b[37m\u001b[0m \u001b[1m0s\u001b[0m 101ms/step - loss: 108099690496.0000 - mse: 108099690496.0000 - val_loss: 228048912384.0000 - val_mse: 228048912384.0000\n",
      "Epoch 12/50\n",
      "\u001b[1m1/1\u001b[0m \u001b[32m━━━━━━━━━━━━━━━━━━━━\u001b[0m\u001b[37m\u001b[0m \u001b[1m0s\u001b[0m 115ms/step - loss: 108099641344.0000 - mse: 108099641344.0000 - val_loss: 228048830464.0000 - val_mse: 228048830464.0000\n",
      "Epoch 13/50\n",
      "\u001b[1m1/1\u001b[0m \u001b[32m━━━━━━━━━━━━━━━━━━━━\u001b[0m\u001b[37m\u001b[0m \u001b[1m0s\u001b[0m 103ms/step - loss: 108099600384.0000 - mse: 108099600384.0000 - val_loss: 228048732160.0000 - val_mse: 228048732160.0000\n",
      "Epoch 14/50\n",
      "\u001b[1m1/1\u001b[0m \u001b[32m━━━━━━━━━━━━━━━━━━━━\u001b[0m\u001b[37m\u001b[0m \u001b[1m0s\u001b[0m 105ms/step - loss: 108099567616.0000 - mse: 108099567616.0000 - val_loss: 228048650240.0000 - val_mse: 228048650240.0000\n",
      "Epoch 15/50\n",
      "\u001b[1m1/1\u001b[0m \u001b[32m━━━━━━━━━━━━━━━━━━━━\u001b[0m\u001b[37m\u001b[0m \u001b[1m0s\u001b[0m 124ms/step - loss: 108099510272.0000 - mse: 108099510272.0000 - val_loss: 228048568320.0000 - val_mse: 228048568320.0000\n",
      "Epoch 16/50\n",
      "\u001b[1m1/1\u001b[0m \u001b[32m━━━━━━━━━━━━━━━━━━━━\u001b[0m\u001b[37m\u001b[0m \u001b[1m0s\u001b[0m 110ms/step - loss: 108099477504.0000 - mse: 108099477504.0000 - val_loss: 228048470016.0000 - val_mse: 228048470016.0000\n",
      "Epoch 17/50\n",
      "\u001b[1m1/1\u001b[0m \u001b[32m━━━━━━━━━━━━━━━━━━━━\u001b[0m\u001b[37m\u001b[0m \u001b[1m0s\u001b[0m 108ms/step - loss: 108099436544.0000 - mse: 108099436544.0000 - val_loss: 228048388096.0000 - val_mse: 228048388096.0000\n",
      "Epoch 18/50\n",
      "\u001b[1m1/1\u001b[0m \u001b[32m━━━━━━━━━━━━━━━━━━━━\u001b[0m\u001b[37m\u001b[0m \u001b[1m0s\u001b[0m 216ms/step - loss: 108099403776.0000 - mse: 108099403776.0000 - val_loss: 228048257024.0000 - val_mse: 228048257024.0000\n",
      "Epoch 19/50\n",
      "\u001b[1m1/1\u001b[0m \u001b[32m━━━━━━━━━━━━━━━━━━━━\u001b[0m\u001b[37m\u001b[0m \u001b[1m0s\u001b[0m 126ms/step - loss: 108099362816.0000 - mse: 108099362816.0000 - val_loss: 228048175104.0000 - val_mse: 228048175104.0000\n",
      "Epoch 20/50\n",
      "\u001b[1m1/1\u001b[0m \u001b[32m━━━━━━━━━━━━━━━━━━━━\u001b[0m\u001b[37m\u001b[0m \u001b[1m0s\u001b[0m 133ms/step - loss: 108099313664.0000 - mse: 108099313664.0000 - val_loss: 228048076800.0000 - val_mse: 228048076800.0000\n",
      "Epoch 21/50\n",
      "\u001b[1m1/1\u001b[0m \u001b[32m━━━━━━━━━━━━━━━━━━━━\u001b[0m\u001b[37m\u001b[0m \u001b[1m0s\u001b[0m 113ms/step - loss: 108099272704.0000 - mse: 108099272704.0000 - val_loss: 228047978496.0000 - val_mse: 228047978496.0000\n",
      "Epoch 22/50\n",
      "\u001b[1m1/1\u001b[0m \u001b[32m━━━━━━━━━━━━━━━━━━━━\u001b[0m\u001b[37m\u001b[0m \u001b[1m0s\u001b[0m 102ms/step - loss: 108099239936.0000 - mse: 108099239936.0000 - val_loss: 228047896576.0000 - val_mse: 228047896576.0000\n",
      "Epoch 23/50\n",
      "\u001b[1m1/1\u001b[0m \u001b[32m━━━━━━━━━━━━━━━━━━━━\u001b[0m\u001b[37m\u001b[0m \u001b[1m0s\u001b[0m 128ms/step - loss: 108099182592.0000 - mse: 108099182592.0000 - val_loss: 228047765504.0000 - val_mse: 228047765504.0000\n",
      "Epoch 24/50\n",
      "\u001b[1m1/1\u001b[0m \u001b[32m━━━━━━━━━━━━━━━━━━━━\u001b[0m\u001b[37m\u001b[0m \u001b[1m0s\u001b[0m 115ms/step - loss: 108099166208.0000 - mse: 108099166208.0000 - val_loss: 228047667200.0000 - val_mse: 228047667200.0000\n",
      "Epoch 25/50\n",
      "\u001b[1m1/1\u001b[0m \u001b[32m━━━━━━━━━━━━━━━━━━━━\u001b[0m\u001b[37m\u001b[0m \u001b[1m0s\u001b[0m 115ms/step - loss: 108099108864.0000 - mse: 108099108864.0000 - val_loss: 228047552512.0000 - val_mse: 228047552512.0000\n",
      "Epoch 26/50\n",
      "\u001b[1m1/1\u001b[0m \u001b[32m━━━━━━━━━━━━━━━━━━━━\u001b[0m\u001b[37m\u001b[0m \u001b[1m0s\u001b[0m 100ms/step - loss: 108099067904.0000 - mse: 108099067904.0000 - val_loss: 228047454208.0000 - val_mse: 228047454208.0000\n",
      "Epoch 27/50\n",
      "\u001b[1m1/1\u001b[0m \u001b[32m━━━━━━━━━━━━━━━━━━━━\u001b[0m\u001b[37m\u001b[0m \u001b[1m0s\u001b[0m 105ms/step - loss: 108099018752.0000 - mse: 108099018752.0000 - val_loss: 228047323136.0000 - val_mse: 228047323136.0000\n",
      "Epoch 28/50\n",
      "\u001b[1m1/1\u001b[0m \u001b[32m━━━━━━━━━━━━━━━━━━━━\u001b[0m\u001b[37m\u001b[0m \u001b[1m0s\u001b[0m 107ms/step - loss: 108098969600.0000 - mse: 108098969600.0000 - val_loss: 228047241216.0000 - val_mse: 228047241216.0000\n",
      "Epoch 29/50\n",
      "\u001b[1m1/1\u001b[0m \u001b[32m━━━━━━━━━━━━━━━━━━━━\u001b[0m\u001b[37m\u001b[0m \u001b[1m0s\u001b[0m 110ms/step - loss: 108098920448.0000 - mse: 108098920448.0000 - val_loss: 228047093760.0000 - val_mse: 228047093760.0000\n",
      "Epoch 30/50\n",
      "\u001b[1m1/1\u001b[0m \u001b[32m━━━━━━━━━━━━━━━━━━━━\u001b[0m\u001b[37m\u001b[0m \u001b[1m0s\u001b[0m 102ms/step - loss: 108098879488.0000 - mse: 108098879488.0000 - val_loss: 228046995456.0000 - val_mse: 228046995456.0000\n",
      "Epoch 31/50\n",
      "\u001b[1m1/1\u001b[0m \u001b[32m━━━━━━━━━━━━━━━━━━━━\u001b[0m\u001b[37m\u001b[0m \u001b[1m0s\u001b[0m 108ms/step - loss: 108098813952.0000 - mse: 108098813952.0000 - val_loss: 228046864384.0000 - val_mse: 228046864384.0000\n",
      "Epoch 32/50\n",
      "\u001b[1m1/1\u001b[0m \u001b[32m━━━━━━━━━━━━━━━━━━━━\u001b[0m\u001b[37m\u001b[0m \u001b[1m0s\u001b[0m 99ms/step - loss: 108098772992.0000 - mse: 108098772992.0000 - val_loss: 228046716928.0000 - val_mse: 228046716928.0000\n",
      "Epoch 33/50\n",
      "\u001b[1m1/1\u001b[0m \u001b[32m━━━━━━━━━━━━━━━━━━━━\u001b[0m\u001b[37m\u001b[0m \u001b[1m0s\u001b[0m 113ms/step - loss: 108098707456.0000 - mse: 108098707456.0000 - val_loss: 228046585856.0000 - val_mse: 228046585856.0000\n",
      "Epoch 34/50\n",
      "\u001b[1m1/1\u001b[0m \u001b[32m━━━━━━━━━━━━━━━━━━━━\u001b[0m\u001b[37m\u001b[0m \u001b[1m0s\u001b[0m 113ms/step - loss: 108098658304.0000 - mse: 108098658304.0000 - val_loss: 228046471168.0000 - val_mse: 228046471168.0000\n",
      "Epoch 35/50\n",
      "\u001b[1m1/1\u001b[0m \u001b[32m━━━━━━━━━━━━━━━━━━━━\u001b[0m\u001b[37m\u001b[0m \u001b[1m0s\u001b[0m 118ms/step - loss: 108098592768.0000 - mse: 108098592768.0000 - val_loss: 228046323712.0000 - val_mse: 228046323712.0000\n",
      "Epoch 36/50\n",
      "\u001b[1m1/1\u001b[0m \u001b[32m━━━━━━━━━━━━━━━━━━━━\u001b[0m\u001b[37m\u001b[0m \u001b[1m0s\u001b[0m 125ms/step - loss: 108098527232.0000 - mse: 108098527232.0000 - val_loss: 228046192640.0000 - val_mse: 228046192640.0000\n",
      "Epoch 37/50\n",
      "\u001b[1m1/1\u001b[0m \u001b[32m━━━━━━━━━━━━━━━━━━━━\u001b[0m\u001b[37m\u001b[0m \u001b[1m0s\u001b[0m 146ms/step - loss: 108098461696.0000 - mse: 108098461696.0000 - val_loss: 228046045184.0000 - val_mse: 228046045184.0000\n",
      "Epoch 38/50\n",
      "\u001b[1m1/1\u001b[0m \u001b[32m━━━━━━━━━━━━━━━━━━━━\u001b[0m\u001b[37m\u001b[0m \u001b[1m0s\u001b[0m 139ms/step - loss: 108098412544.0000 - mse: 108098412544.0000 - val_loss: 228045914112.0000 - val_mse: 228045914112.0000\n",
      "Epoch 39/50\n",
      "\u001b[1m1/1\u001b[0m \u001b[32m━━━━━━━━━━━━━━━━━━━━\u001b[0m\u001b[37m\u001b[0m \u001b[1m0s\u001b[0m 138ms/step - loss: 108098347008.0000 - mse: 108098347008.0000 - val_loss: 228045733888.0000 - val_mse: 228045733888.0000\n",
      "Epoch 40/50\n",
      "\u001b[1m1/1\u001b[0m \u001b[32m━━━━━━━━━━━━━━━━━━━━\u001b[0m\u001b[37m\u001b[0m \u001b[1m0s\u001b[0m 129ms/step - loss: 108098289664.0000 - mse: 108098289664.0000 - val_loss: 228045602816.0000 - val_mse: 228045602816.0000\n",
      "Epoch 41/50\n",
      "\u001b[1m1/1\u001b[0m \u001b[32m━━━━━━━━━━━━━━━━━━━━\u001b[0m\u001b[37m\u001b[0m \u001b[1m0s\u001b[0m 140ms/step - loss: 108098215936.0000 - mse: 108098215936.0000 - val_loss: 228045422592.0000 - val_mse: 228045422592.0000\n",
      "Epoch 42/50\n",
      "\u001b[1m1/1\u001b[0m \u001b[32m━━━━━━━━━━━━━━━━━━━━\u001b[0m\u001b[37m\u001b[0m \u001b[1m0s\u001b[0m 137ms/step - loss: 108098134016.0000 - mse: 108098134016.0000 - val_loss: 228045258752.0000 - val_mse: 228045258752.0000\n",
      "Epoch 43/50\n",
      "\u001b[1m1/1\u001b[0m \u001b[32m━━━━━━━━━━━━━━━━━━━━\u001b[0m\u001b[37m\u001b[0m \u001b[1m0s\u001b[0m 144ms/step - loss: 108098068480.0000 - mse: 108098068480.0000 - val_loss: 228045111296.0000 - val_mse: 228045111296.0000\n",
      "Epoch 44/50\n",
      "\u001b[1m1/1\u001b[0m \u001b[32m━━━━━━━━━━━━━━━━━━━━\u001b[0m\u001b[37m\u001b[0m \u001b[1m0s\u001b[0m 125ms/step - loss: 108097986560.0000 - mse: 108097986560.0000 - val_loss: 228044931072.0000 - val_mse: 228044931072.0000\n",
      "Epoch 45/50\n",
      "\u001b[1m1/1\u001b[0m \u001b[32m━━━━━━━━━━━━━━━━━━━━\u001b[0m\u001b[37m\u001b[0m \u001b[1m0s\u001b[0m 136ms/step - loss: 108097904640.0000 - mse: 108097904640.0000 - val_loss: 228044750848.0000 - val_mse: 228044750848.0000\n",
      "Epoch 46/50\n",
      "\u001b[1m1/1\u001b[0m \u001b[32m━━━━━━━━━━━━━━━━━━━━\u001b[0m\u001b[37m\u001b[0m \u001b[1m0s\u001b[0m 123ms/step - loss: 108097830912.0000 - mse: 108097830912.0000 - val_loss: 228044537856.0000 - val_mse: 228044537856.0000\n",
      "Epoch 47/50\n",
      "\u001b[1m1/1\u001b[0m \u001b[32m━━━━━━━━━━━━━━━━━━━━\u001b[0m\u001b[37m\u001b[0m \u001b[1m0s\u001b[0m 216ms/step - loss: 108097732608.0000 - mse: 108097732608.0000 - val_loss: 228044357632.0000 - val_mse: 228044357632.0000\n",
      "Epoch 48/50\n",
      "\u001b[1m1/1\u001b[0m \u001b[32m━━━━━━━━━━━━━━━━━━━━\u001b[0m\u001b[37m\u001b[0m \u001b[1m0s\u001b[0m 120ms/step - loss: 108097642496.0000 - mse: 108097642496.0000 - val_loss: 228044128256.0000 - val_mse: 228044128256.0000\n",
      "Epoch 49/50\n",
      "\u001b[1m1/1\u001b[0m \u001b[32m━━━━━━━━━━━━━━━━━━━━\u001b[0m\u001b[37m\u001b[0m \u001b[1m0s\u001b[0m 108ms/step - loss: 108097560576.0000 - mse: 108097560576.0000 - val_loss: 228043948032.0000 - val_mse: 228043948032.0000\n",
      "Epoch 50/50\n",
      "\u001b[1m1/1\u001b[0m \u001b[32m━━━━━━━━━━━━━━━━━━━━\u001b[0m\u001b[37m\u001b[0m \u001b[1m0s\u001b[0m 125ms/step - loss: 108097462272.0000 - mse: 108097462272.0000 - val_loss: 228043735040.0000 - val_mse: 228043735040.0000\n"
     ]
    }
   ],
   "source": [
    "model.compile(optimizer='adam', loss='mean_squared_error', metrics=['mse'])\n",
    "\n",
    "history = model.fit(X_train, y_train, epochs=50, batch_size=32, validation_split=0.2)\n"
   ]
  },
  {
   "cell_type": "markdown",
   "id": "7d82b957-63fb-4be3-b5a7-8d527bb50b14",
   "metadata": {},
   "source": [
    "## Evaluate the model"
   ]
  },
  {
   "cell_type": "code",
   "execution_count": 77,
   "id": "855ed3e2-a096-453b-9029-cc4dfda6bdfd",
   "metadata": {},
   "outputs": [
    {
     "name": "stdout",
     "output_type": "stream",
     "text": [
      "\u001b[1m1/1\u001b[0m \u001b[32m━━━━━━━━━━━━━━━━━━━━\u001b[0m\u001b[37m\u001b[0m \u001b[1m0s\u001b[0m 44ms/step - loss: 96197787648.0000 - mse: 96197787648.0000\n",
      "Test Mean Squared Error: 96197787648.0\n"
     ]
    }
   ],
   "source": [
    "test_loss, test_mse = model.evaluate(X_test, y_test)\n",
    "\n",
    "print(f'Test Mean Squared Error: {test_mse}')\n"
   ]
  },
  {
   "cell_type": "markdown",
   "id": "88fc1787-6b6f-409f-9248-603bb7e833ce",
   "metadata": {},
   "source": [
    "## Predicting on new data (example)"
   ]
  },
  {
   "cell_type": "code",
   "execution_count": 80,
   "id": "85f1b752-2daa-4972-8aae-9b44bd8ee3d4",
   "metadata": {},
   "outputs": [
    {
     "name": "stderr",
     "output_type": "stream",
     "text": [
      "C:\\Users\\USER\\anaconda3\\Lib\\site-packages\\sklearn\\base.py:439: UserWarning: X does not have valid feature names, but StandardScaler was fitted with feature names\n",
      "  warnings.warn(\n"
     ]
    }
   ],
   "source": [
    "# Assume new_data is already prepared and scaled as in the previous example\n",
    "new_data = np.array([[3, 2, 1500, 10, 0, 1]])  # Example input (3 bedrooms, 2 bathrooms, 1500 sqft, Urban, 10 years old)\n",
    "new_data_scaled = scaler.transform(new_data)"
   ]
  },
  {
   "cell_type": "markdown",
   "id": "493e6e45-0cdb-4ad2-8608-4e992ee22b80",
   "metadata": {},
   "source": [
    "## Make predictions using the trained model"
   ]
  },
  {
   "cell_type": "code",
   "execution_count": 83,
   "id": "27bf1656-18c7-4c6b-a4b4-96c5760f4a7f",
   "metadata": {},
   "outputs": [
    {
     "name": "stdout",
     "output_type": "stream",
     "text": [
      "\u001b[1m1/1\u001b[0m \u001b[32m━━━━━━━━━━━━━━━━━━━━\u001b[0m\u001b[37m\u001b[0m \u001b[1m0s\u001b[0m 91ms/step\n",
      "Predicted Price: $3.54\n"
     ]
    }
   ],
   "source": [
    "\n",
    "prediction = model.predict(new_data_scaled)\n",
    "print(f'Predicted Price: ${prediction[0][0]:.2f}')"
   ]
  }
 ],
 "metadata": {
  "kernelspec": {
   "display_name": "Python 3 (ipykernel)",
   "language": "python",
   "name": "python3"
  },
  "language_info": {
   "codemirror_mode": {
    "name": "ipython",
    "version": 3
   },
   "file_extension": ".py",
   "mimetype": "text/x-python",
   "name": "python",
   "nbconvert_exporter": "python",
   "pygments_lexer": "ipython3",
   "version": "3.11.7"
  }
 },
 "nbformat": 4,
 "nbformat_minor": 5
}
