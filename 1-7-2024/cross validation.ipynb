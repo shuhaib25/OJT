{
 "cells": [
  {
   "cell_type": "code",
   "execution_count": 29,
   "id": "03ab0e90-039e-4e36-b434-0a76cb97c82a",
   "metadata": {},
   "outputs": [
    {
     "name": "stdout",
     "output_type": "stream",
     "text": [
      "average Mean Absoulte error:4.074536263942718e-11\n"
     ]
    }
   ],
   "source": [
    "import pandas as pd\n",
    "import numpy as np\n",
    "from sklearn.model_selection import KFold\n",
    "from sklearn.linear_model import LinearRegression\n",
    "from sklearn.metrics import mean_absolute_error\n",
    "\n",
    "#load our data\n",
    "df = pd.read_csv('housing_price.csv')\n",
    "\n",
    "#split the dataset into feature and target as (x) and (y) axis\n",
    "\n",
    "x = df[['size','bedrooms']].values\n",
    "y = df['price'].values\n",
    " \n",
    " #intiate or define our model\n",
    "model = LinearRegression()\n",
    " \n",
    " #define our crossvalidation method which is kfold\n",
    "kf = KFold(n_splits=5)\n",
    "mae_scores = []\n",
    "for train_index, test_index in kf.split(x) :\n",
    "    x_train , x_test = x[train_index],x[test_index]\n",
    "    y_train , y_test = y[train_index],y[test_index]\n",
    "    \n",
    "    #training the model with set which we gets after looping\n",
    "    model.fit(x_train,y_train)\n",
    "    \n",
    "    #predict the test set\n",
    "    y_pred = model.predict(x_test)\n",
    "    mae = mean_absolute_error(y_test,y_pred)\n",
    "    mae_scores.append(mae)\n",
    "    \n",
    "average_mae = np.mean(mae_scores)\n",
    "print(f\"average Mean Absoulte error:{average_mae}\")"
   ]
  },
  {
   "cell_type": "code",
   "execution_count": null,
   "id": "c5d3c881-c7f6-482f-9311-80580ce8bce9",
   "metadata": {},
   "outputs": [],
   "source": []
  },
  {
   "cell_type": "code",
   "execution_count": null,
   "id": "f0977ecf-2b1a-420f-a8b7-0763a95d114c",
   "metadata": {},
   "outputs": [],
   "source": []
  },
  {
   "cell_type": "code",
   "execution_count": null,
   "id": "fbed42c7-004d-49dd-9421-4f17da45cc59",
   "metadata": {},
   "outputs": [],
   "source": []
  },
  {
   "cell_type": "code",
   "execution_count": null,
   "id": "bf44faae-6a16-4aee-914a-c3fdae652039",
   "metadata": {},
   "outputs": [],
   "source": []
  }
 ],
 "metadata": {
  "kernelspec": {
   "display_name": "Python 3 (ipykernel)",
   "language": "python",
   "name": "python3"
  },
  "language_info": {
   "codemirror_mode": {
    "name": "ipython",
    "version": 3
   },
   "file_extension": ".py",
   "mimetype": "text/x-python",
   "name": "python",
   "nbconvert_exporter": "python",
   "pygments_lexer": "ipython3",
   "version": "3.11.7"
  }
 },
 "nbformat": 4,
 "nbformat_minor": 5
}
