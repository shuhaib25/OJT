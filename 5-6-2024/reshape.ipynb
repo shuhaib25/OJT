{
 "cells": [
  {
   "cell_type": "code",
   "execution_count": 9,
   "id": "ed4a1a70-8395-485d-87d0-de264d3439d6",
   "metadata": {},
   "outputs": [
    {
     "name": "stdout",
     "output_type": "stream",
     "text": [
      "array1D : [1 2 3 4 5 6]\n",
      "shape of array1D : (6,)\n"
     ]
    }
   ],
   "source": [
    "#converting 1D into array\n",
    "#.reshape() is the method which is used for reshaping the arrays.\n",
    "import numpy as np\n",
    "\n",
    "#create a 1D array\n",
    "array_1D = np.array([1,2,3,4,5,6])\n",
    "print(\"array1D :\",array_1D)\n",
    "print(\"shape of array1D :\",array_1D.shape)"
   ]
  },
  {
   "cell_type": "code",
   "execution_count": 11,
   "id": "12358029-603c-43ca-a258-18757a3e9651",
   "metadata": {},
   "outputs": [
    {
     "name": "stdout",
     "output_type": "stream",
     "text": [
      "2D array : [[1 2 3]\n",
      " [4 5 6]]\n",
      "shape of array_2D (2, 3)\n"
     ]
    }
   ],
   "source": [
    "#reshape the 1D array to 2D array\n",
    "array_2D = array_1D.reshape((2,3))\n",
    "print(\"2D array :\",array_2D)\n",
    "print(\"shape of array_2D\",array_2D.shape)"
   ]
  },
  {
   "cell_type": "code",
   "execution_count": 17,
   "id": "b67f2473-2155-4d8a-ac71-1ec9ea8ed31f",
   "metadata": {},
   "outputs": [
    {
     "name": "stdout",
     "output_type": "stream",
     "text": [
      "2D array : [[1 2]\n",
      " [3 4]\n",
      " [5 6]]\n",
      "shape of array_2D (3, 2)\n"
     ]
    }
   ],
   "source": [
    "#reshape 1D array into 3D array\n",
    "array_3D = array_1D.reshape((3,2))\n",
    "print(\"2D array :\",array_3D)\n",
    "print(\"shape of array_2D\",array_3D.shape)"
   ]
  },
  {
   "cell_type": "code",
   "execution_count": 23,
   "id": "49c0b50f-d75b-4eb3-ad7d-da238bb79bed",
   "metadata": {},
   "outputs": [
    {
     "name": "stdout",
     "output_type": "stream",
     "text": [
      "[1 2 3 4 5 6]\n"
     ]
    }
   ],
   "source": [
    "#reshape back a 2D array to 1D\n",
    "array_1D_back = array_2D.reshape(6)\n",
    "print(array_1D_back)"
   ]
  },
  {
   "cell_type": "code",
   "execution_count": null,
   "id": "807476f6-9b50-4e2d-8bf9-57007f64cb47",
   "metadata": {},
   "outputs": [],
   "source": []
  }
 ],
 "metadata": {
  "kernelspec": {
   "display_name": "Python 3 (ipykernel)",
   "language": "python",
   "name": "python3"
  },
  "language_info": {
   "codemirror_mode": {
    "name": "ipython",
    "version": 3
   },
   "file_extension": ".py",
   "mimetype": "text/x-python",
   "name": "python",
   "nbconvert_exporter": "python",
   "pygments_lexer": "ipython3",
   "version": "3.11.7"
  }
 },
 "nbformat": 4,
 "nbformat_minor": 5
}
