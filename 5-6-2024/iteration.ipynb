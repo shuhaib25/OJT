{
 "cells": [
  {
   "cell_type": "code",
   "execution_count": 3,
   "id": "6c405713-5123-4f48-bd6b-aeed146b21ee",
   "metadata": {},
   "outputs": [
    {
     "name": "stdout",
     "output_type": "stream",
     "text": [
      "array_1D : [1 2 3 4 5 6]\n",
      "1\n",
      "2\n",
      "3\n",
      "4\n",
      "5\n",
      "6\n"
     ]
    }
   ],
   "source": [
    "import numpy as np\n",
    "# for-in loop\n",
    "#1d array\n",
    "array_1D = np.array([1,2,3,4,5,6])\n",
    "#iterate the elements in this array\n",
    "print(\"array_1D :\",array_1D)\n",
    "\n",
    "for elements in array_1D:\n",
    "    print(elements)\n"
   ]
  },
  {
   "cell_type": "code",
   "execution_count": 5,
   "id": "501523b5-a458-46f8-9e8d-08738b37b832",
   "metadata": {},
   "outputs": [
    {
     "name": "stdout",
     "output_type": "stream",
     "text": [
      "2D array : [[1 2 3]\n",
      " [4 5 6]\n",
      " [7 8 9]]\n"
     ]
    }
   ],
   "source": [
    "array_2D = np.array([[1,2,3],[4,5,6],[7,8,9]])\n",
    "print(\"2D array :\", array_2D)\n"
   ]
  },
  {
   "cell_type": "code",
   "execution_count": 9,
   "id": "9ba98d3e-4a0f-4581-b96a-a01db576a16c",
   "metadata": {},
   "outputs": [
    {
     "name": "stdout",
     "output_type": "stream",
     "text": [
      "[1 2 3]\n",
      "[4 5 6]\n",
      "[7 8 9]\n"
     ]
    }
   ],
   "source": [
    "#iterate 2D array\n",
    "for elements in array_2D:\n",
    "    print(elements)"
   ]
  },
  {
   "cell_type": "code",
   "execution_count": 11,
   "id": "8aa37c33-4e19-4d42-84f3-7deae1b10eaa",
   "metadata": {},
   "outputs": [
    {
     "name": "stdout",
     "output_type": "stream",
     "text": [
      "[1 2 3]\n",
      "1\n",
      "2\n",
      "3\n",
      "[4 5 6]\n",
      "4\n",
      "5\n",
      "6\n",
      "[7 8 9]\n",
      "7\n",
      "8\n",
      "9\n"
     ]
    }
   ],
   "source": [
    "#iterate 2D array each elements\n",
    "for rows in array_2D:\n",
    "    print(rows)\n",
    "    for elements in rows:\n",
    "        print(elements)"
   ]
  },
  {
   "cell_type": "code",
   "execution_count": 13,
   "id": "0f80274f-2379-49b6-8561-874cdb674848",
   "metadata": {},
   "outputs": [
    {
     "name": "stdout",
     "output_type": "stream",
     "text": [
      "1\n",
      "2\n",
      "3\n",
      "4\n",
      "5\n",
      "6\n",
      "7\n",
      "8\n",
      "9\n"
     ]
    }
   ],
   "source": [
    "for elements in np.nditer(array_2D):\n",
    "    print(elements)"
   ]
  },
  {
   "cell_type": "code",
   "execution_count": 21,
   "id": "5b449c06-18d9-4aa8-aed0-43caa3241658",
   "metadata": {},
   "outputs": [
    {
     "name": "stdout",
     "output_type": "stream",
     "text": [
      "index:(0, 0),Element: 1\n",
      "index:(0, 1),Element: 2\n",
      "index:(0, 2),Element: 3\n",
      "index:(1, 0),Element: 4\n",
      "index:(1, 1),Element: 5\n",
      "index:(1, 2),Element: 6\n",
      "index:(2, 0),Element: 7\n",
      "index:(2, 1),Element: 8\n",
      "index:(2, 2),Element: 9\n"
     ]
    }
   ],
   "source": [
    "#iterate the elements with index\n",
    "for index, element in np.ndenumerate(array_2D):\n",
    "      print(f\"index:{index},Element: {element}\")"
   ]
  },
  {
   "cell_type": "code",
   "execution_count": null,
   "id": "56732dea-df8d-422e-aaeb-ae41c6895a0e",
   "metadata": {},
   "outputs": [],
   "source": []
  }
 ],
 "metadata": {
  "kernelspec": {
   "display_name": "Python 3 (ipykernel)",
   "language": "python",
   "name": "python3"
  },
  "language_info": {
   "codemirror_mode": {
    "name": "ipython",
    "version": 3
   },
   "file_extension": ".py",
   "mimetype": "text/x-python",
   "name": "python",
   "nbconvert_exporter": "python",
   "pygments_lexer": "ipython3",
   "version": "3.11.7"
  }
 },
 "nbformat": 4,
 "nbformat_minor": 5
}
