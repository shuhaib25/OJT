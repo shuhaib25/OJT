{
 "cells": [
  {
   "cell_type": "code",
   "execution_count": 11,
   "id": "48ef93a9-4023-4b91-a1d6-87745da2cb3e",
   "metadata": {},
   "outputs": [
    {
     "name": "stdout",
     "output_type": "stream",
     "text": [
      "[1 2 3 4 5 6]\n"
     ]
    }
   ],
   "source": [
    "import numpy as np\n",
    "\n",
    "array1 =np.array([1,2,3])\n",
    "array2 =np.array([4,5,6])\n",
    "\n",
    "#join array\n",
    "concat_array = np.concatenate((array1,array2))\n",
    "print(concat_array)"
   ]
  },
  {
   "cell_type": "code",
   "execution_count": 25,
   "id": "06519e43-bb4f-4949-b999-5d9a5620ab8c",
   "metadata": {},
   "outputs": [],
   "source": [
    "#create a multi diementional \n",
    "\n",
    "array2D_1 = np.array([[1,2,3],[4,5,6]])\n",
    "array2D_2 = np.array([[7,8,9],[10,11,12]])"
   ]
  },
  {
   "cell_type": "code",
   "execution_count": 33,
   "id": "3451e204-f313-429d-8871-8e017d2a3315",
   "metadata": {},
   "outputs": [
    {
     "name": "stdout",
     "output_type": "stream",
     "text": [
      "vertical stacked array is : [[ 1  2  3]\n",
      " [ 4  5  6]\n",
      " [ 7  8  9]\n",
      " [10 11 12]]\n"
     ]
    }
   ],
   "source": [
    "#vertically and horizontaally\n",
    "#vstack - for vertical joining\n",
    "#hstck - for horizontal\n",
    "\n",
    "#verical using vstack\n",
    "vstack_array = np.vstack((array2D_1,array2D_2))\n",
    "print(\"vertical stacked array is :\",vstack_array)"
   ]
  },
  {
   "cell_type": "code",
   "execution_count": 35,
   "id": "82fd2ee2-29bc-4d97-b913-853e78df8470",
   "metadata": {},
   "outputs": [
    {
     "name": "stdout",
     "output_type": "stream",
     "text": [
      "[[ 1  2  3  7  8  9]\n",
      " [ 4  5  6 10 11 12]]\n"
     ]
    }
   ],
   "source": [
    "#horizontal using hstack\n",
    "hstack_array = np.hstack((array2D_1,array2D_2))\n",
    "print(hstack_array)"
   ]
  },
  {
   "cell_type": "code",
   "execution_count": null,
   "id": "42cfe043-c3f6-4794-839d-fc76f08f0565",
   "metadata": {},
   "outputs": [],
   "source": []
  }
 ],
 "metadata": {
  "kernelspec": {
   "display_name": "Python 3 (ipykernel)",
   "language": "python",
   "name": "python3"
  },
  "language_info": {
   "codemirror_mode": {
    "name": "ipython",
    "version": 3
   },
   "file_extension": ".py",
   "mimetype": "text/x-python",
   "name": "python",
   "nbconvert_exporter": "python",
   "pygments_lexer": "ipython3",
   "version": "3.11.7"
  }
 },
 "nbformat": 4,
 "nbformat_minor": 5
}
