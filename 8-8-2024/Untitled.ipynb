{
 "cells": [
  {
   "cell_type": "code",
   "execution_count": 1,
   "id": "2c3512d8-30a7-47cd-86cb-3b8ef273de45",
   "metadata": {},
   "outputs": [],
   "source": [
    "import cv2\n",
    "import numpy as np\n",
    "\n",
    "# Read the image using OpenCV\n",
    "image = cv2.imread('test.jpg')\n",
    "\n",
    "# Check if the image was loaded successfully\n",
    "if image is None:\n",
    "    print(\"Could not read the image. Please check the file path.\")\n",
    "    exit()\n",
    "\n",
    "# Display the original image\n",
    "cv2.imshow('Original Image', image)\n",
    "cv2.waitKey(0)  # Wait for a key press to close the window\n",
    "cv2.destroyAllWindows()  # Close all OpenCV windows\n"
   ]
  },
  {
   "cell_type": "code",
   "execution_count": 5,
   "id": "f0c8f251-1b1a-47db-88c9-7e4ecedf6e24",
   "metadata": {},
   "outputs": [],
   "source": [
    "import cv2\n",
    "import numpy as np\n",
    "\n",
    "# Read the image using OpenCV\n",
    "image = cv2.imread('test.jpg')\n",
    "\n",
    "# Check if the image was loaded successfully\n",
    "if image is None:\n",
    "    print(\"Could not read the image. Please check the file path.\")\n",
    "    exit()\n",
    "\n",
    "grey_image = cv2.cvtColor(image,cv2.COLOR_BGR2GRAY)\n",
    "cv2.imshow('Image', grey_image)\n",
    "cv2.waitKey(0)  # Wait for a key press to close the window\n",
    "cv2.destroyAllWindows()  # Close all OpenCV windows\n",
    "\n",
    "\n"
   ]
  },
  {
   "cell_type": "code",
   "execution_count": 7,
   "id": "40c78dae-4a48-4b4b-ae5b-0d226f821ea8",
   "metadata": {},
   "outputs": [],
   "source": [
    "import cv2\n",
    "import numpy as np\n",
    "\n",
    "# Read the image using OpenCV\n",
    "image = cv2.imread('test.jpg')\n",
    "\n",
    "# Check if the image was loaded successfully\n",
    "if image is None:\n",
    "    print(\"Could not read the image. Please check the file path.\")\n",
    "    exit()\n",
    "\n",
    "#we apply a Gaussain blur into the above image\n",
    "blurred_image = cv2.GaussianBlur(grey_image,(5,5),0)\n",
    "cv2.imshow('Image', blurred_image)\n",
    "cv2.waitKey(0)  # Wait for a key press to close the window\n",
    "cv2.destroyAllWindows()"
   ]
  },
  {
   "cell_type": "code",
   "execution_count": 11,
   "id": "ed897b3b-8d51-4e7b-93b0-2a1dd2e77f59",
   "metadata": {},
   "outputs": [],
   "source": [
    "import cv2\n",
    "import numpy as np\n",
    "\n",
    "# Read the image with the OpenCV library\n",
    "image = cv2.imread('test.jpg')\n",
    "\n",
    "# Check if the image was successfully loaded\n",
    "if image is None:\n",
    "    print(\"Could not read the image\")\n",
    "    exit()\n",
    "\n",
    "# Display the image\n",
    "# cv2.imshow('Original Image', image)\n",
    "# cv2.waitKey(0)\n",
    "# cv2.destroyAllWindows()\n",
    "\n",
    "#convert to greyscale\n",
    "grey_image = cv2.cvtColor(image,cv2.COLOR_BGR2GRAY)\n",
    "\n",
    "#we apply a Gaussain blur into the above image\n",
    "blurred_image = cv2.GaussianBlur(grey_image,(5,5),0)\n",
    "\n",
    "#edge detection\n",
    "edges = cv2.Canny(blurred_image,50,150)\n",
    "\n",
    "#orginal image\n",
    "cv2.imshow('Original Image', image)\n",
    "cv2.waitKey(0)\n",
    "\n",
    "cv2.imshow('greyscale image', grey_image)\n",
    "cv2.waitKey(0)\n",
    "\n",
    "cv2.imshow('blurred image', blurred_image)\n",
    "cv2.waitKey(0)\n",
    "\n",
    "cv2.imshow('edges', edges)\n",
    "cv2.waitKey(0)\n",
    "\n",
    "cv2.destroyAllWindows()"
   ]
  },
  {
   "cell_type": "code",
   "execution_count": null,
   "id": "f6778d82-8e2c-4d99-b2ed-0930bf042953",
   "metadata": {},
   "outputs": [],
   "source": []
  }
 ],
 "metadata": {
  "kernelspec": {
   "display_name": "Python 3 (ipykernel)",
   "language": "python",
   "name": "python3"
  },
  "language_info": {
   "codemirror_mode": {
    "name": "ipython",
    "version": 3
   },
   "file_extension": ".py",
   "mimetype": "text/x-python",
   "name": "python",
   "nbconvert_exporter": "python",
   "pygments_lexer": "ipython3",
   "version": "3.11.7"
  }
 },
 "nbformat": 4,
 "nbformat_minor": 5
}
