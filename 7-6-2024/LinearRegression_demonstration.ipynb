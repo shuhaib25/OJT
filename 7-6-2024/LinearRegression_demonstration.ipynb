{
 "cells": [
  {
   "cell_type": "code",
   "execution_count": 1,
   "id": "eca5e14d-5b7c-43f7-b201-8d4603b53550",
   "metadata": {},
   "outputs": [],
   "source": [
    "# Importing necessary libraries\n",
    "import numpy as np\n",
    "import matplotlib.pyplot as plt\n",
    "from sklearn.model_selection import train_test_split\n",
    "from sklearn.linear_model import LinearRegression\n",
    "from sklearn.metrics import mean_squared_error"
   ]
  },
  {
   "cell_type": "code",
   "execution_count": 10,
   "id": "b050954b-d2e8-4dc4-818a-684349f1a650",
   "metadata": {},
   "outputs": [
    {
     "name": "stdout",
     "output_type": "stream",
     "text": [
      "[[1.09762701]\n",
      " [1.43037873]\n",
      " [1.20552675]\n",
      " [1.08976637]\n",
      " [0.8473096 ]\n",
      " [1.29178823]\n",
      " [0.87517442]\n",
      " [1.783546  ]\n",
      " [1.92732552]\n",
      " [0.76688304]\n",
      " [1.58345008]\n",
      " [1.05778984]\n",
      " [1.13608912]\n",
      " [1.85119328]\n",
      " [0.14207212]\n",
      " [0.1742586 ]\n",
      " [0.04043679]\n",
      " [1.66523969]\n",
      " [1.5563135 ]\n",
      " [1.7400243 ]\n",
      " [1.95723668]\n",
      " [1.59831713]\n",
      " [0.92295872]\n",
      " [1.56105835]\n",
      " [0.23654885]\n",
      " [1.27984204]\n",
      " [0.28670657]\n",
      " [1.88933783]\n",
      " [1.04369664]\n",
      " [0.82932388]\n",
      " [0.52911122]\n",
      " [1.54846738]\n",
      " [0.91230066]\n",
      " [1.1368679 ]\n",
      " [0.0375796 ]\n",
      " [1.23527099]\n",
      " [1.22419145]\n",
      " [1.23386799]\n",
      " [1.88749616]\n",
      " [1.3636406 ]\n",
      " [0.7190158 ]\n",
      " [0.87406391]\n",
      " [1.39526239]\n",
      " [0.12045094]\n",
      " [1.33353343]\n",
      " [1.34127574]\n",
      " [0.42076512]\n",
      " [0.2578526 ]\n",
      " [0.6308567 ]\n",
      " [0.72742154]\n",
      " [1.14039354]\n",
      " [0.87720303]\n",
      " [1.97674768]\n",
      " [0.20408962]\n",
      " [0.41775351]\n",
      " [0.32261904]\n",
      " [1.30621665]\n",
      " [0.50658321]\n",
      " [0.93262155]\n",
      " [0.48885118]\n",
      " [0.31793917]\n",
      " [0.22075028]\n",
      " [1.31265918]\n",
      " [0.2763659 ]\n",
      " [0.39316472]\n",
      " [0.73745034]\n",
      " [1.64198646]\n",
      " [0.19420255]\n",
      " [1.67588981]\n",
      " [0.19219682]\n",
      " [1.95291893]\n",
      " [0.9373024 ]\n",
      " [1.95352218]\n",
      " [1.20969104]\n",
      " [1.47852716]\n",
      " [0.07837558]\n",
      " [0.56561393]\n",
      " [0.24039312]\n",
      " [0.5922804 ]\n",
      " [0.23745544]\n",
      " [0.63596636]\n",
      " [0.82852599]\n",
      " [0.12829499]\n",
      " [1.38494424]\n",
      " [1.13320291]\n",
      " [0.53077898]\n",
      " [1.04649611]\n",
      " [0.18788102]\n",
      " [1.15189299]\n",
      " [1.8585924 ]\n",
      " [0.6371379 ]\n",
      " [1.33482076]\n",
      " [0.26359572]\n",
      " [1.43265441]\n",
      " [0.57881219]\n",
      " [0.36638272]\n",
      " [1.17302587]\n",
      " [0.04021509]\n",
      " [1.65788006]\n",
      " [0.00939095]]\n",
      "\n",
      " [[ 6.12773118]\n",
      " [ 9.19196269]\n",
      " [ 8.0822427 ]\n",
      " [ 5.73305541]\n",
      " [ 8.03018099]\n",
      " [ 9.77125385]\n",
      " [ 7.80430284]\n",
      " [ 9.17071317]\n",
      " [ 8.71122394]\n",
      " [ 7.35510084]\n",
      " [ 8.34717328]\n",
      " [ 8.39581459]\n",
      " [ 7.61654234]\n",
      " [10.53021887]\n",
      " [ 4.78258275]\n",
      " [ 5.22934897]\n",
      " [ 4.13181041]\n",
      " [10.78158957]\n",
      " [ 8.7958526 ]\n",
      " [ 9.62206225]\n",
      " [11.75486075]\n",
      " [ 7.44719232]\n",
      " [ 5.49839118]\n",
      " [ 9.65257177]\n",
      " [ 3.53652315]\n",
      " [ 9.78314731]\n",
      " [ 4.44650074]\n",
      " [ 8.92055869]\n",
      " [ 9.05403196]\n",
      " [ 7.96848643]\n",
      " [ 7.45489263]\n",
      " [ 9.55144679]\n",
      " [ 5.87567631]\n",
      " [ 9.32066865]\n",
      " [ 3.84473543]\n",
      " [ 8.50826938]\n",
      " [ 8.6198263 ]\n",
      " [ 7.54659389]\n",
      " [10.27656784]\n",
      " [ 9.01312847]\n",
      " [ 6.53347293]\n",
      " [ 5.52279093]\n",
      " [ 8.48402535]\n",
      " [ 5.68773873]\n",
      " [ 7.30603243]\n",
      " [ 7.87419268]\n",
      " [ 4.82714181]\n",
      " [ 6.62282151]\n",
      " [ 6.56486486]\n",
      " [ 6.58972646]\n",
      " [ 6.65126455]\n",
      " [ 7.17085827]\n",
      " [ 9.25591037]\n",
      " [ 4.64409942]\n",
      " [ 4.61741446]\n",
      " [ 5.6442904 ]\n",
      " [ 8.49524077]\n",
      " [ 5.31145086]\n",
      " [ 7.19387135]\n",
      " [ 4.37349204]\n",
      " [ 3.46255991]\n",
      " [ 5.10164255]\n",
      " [ 8.10465103]\n",
      " [ 5.46412914]\n",
      " [ 7.56263894]\n",
      " [ 7.15683051]\n",
      " [ 8.01313715]\n",
      " [ 5.69962394]\n",
      " [ 7.71176203]\n",
      " [ 4.11500584]\n",
      " [ 9.79051518]\n",
      " [ 8.52524993]\n",
      " [ 9.11581171]\n",
      " [ 6.80263458]\n",
      " [ 8.33712895]\n",
      " [ 3.57164847]\n",
      " [ 6.8234777 ]\n",
      " [ 3.64124786]\n",
      " [ 4.62937253]\n",
      " [ 4.27454627]\n",
      " [ 5.40986663]\n",
      " [ 8.41511002]\n",
      " [ 5.33430579]\n",
      " [ 8.24238396]\n",
      " [ 6.17417321]\n",
      " [ 6.43669992]\n",
      " [ 6.13927297]\n",
      " [ 3.01887197]\n",
      " [ 8.64370877]\n",
      " [ 9.8927198 ]\n",
      " [ 6.83227254]\n",
      " [ 8.32318993]\n",
      " [ 5.64761779]\n",
      " [ 7.64693763]\n",
      " [ 4.70219372]\n",
      " [ 5.78074269]\n",
      " [ 6.71566794]\n",
      " [ 3.4310955 ]\n",
      " [ 8.51810767]\n",
      " [ 4.04565202]]\n"
     ]
    }
   ],
   "source": [
    "# Generating some sample data\n",
    "np.random.seed(0)\n",
    "X = 2 * np.random.rand(100, 1)  # Independent variable (feature)\n",
    "y = 4 + 3 * X + np.random.randn(100, 1)  # Dependent variable (target)\n",
    "print(X)\n",
    "print(\"\\n\",y)"
   ]
  },
  {
   "cell_type": "code",
   "execution_count": 11,
   "id": "0c5f43b5-7eb5-4063-8bea-8c1949ebee35",
   "metadata": {},
   "outputs": [],
   "source": [
    "# Splitting the data into training and testing sets\n",
    "X_train, X_test, y_train, y_test = train_test_split(X, y, test_size=0.2, random_state=42)"
   ]
  },
  {
   "cell_type": "code",
   "execution_count": 12,
   "id": "7064386a-757d-4077-9a53-10068c555bd9",
   "metadata": {},
   "outputs": [
    {
     "data": {
      "text/html": [
       "<style>#sk-container-id-2 {color: black;background-color: white;}#sk-container-id-2 pre{padding: 0;}#sk-container-id-2 div.sk-toggleable {background-color: white;}#sk-container-id-2 label.sk-toggleable__label {cursor: pointer;display: block;width: 100%;margin-bottom: 0;padding: 0.3em;box-sizing: border-box;text-align: center;}#sk-container-id-2 label.sk-toggleable__label-arrow:before {content: \"▸\";float: left;margin-right: 0.25em;color: #696969;}#sk-container-id-2 label.sk-toggleable__label-arrow:hover:before {color: black;}#sk-container-id-2 div.sk-estimator:hover label.sk-toggleable__label-arrow:before {color: black;}#sk-container-id-2 div.sk-toggleable__content {max-height: 0;max-width: 0;overflow: hidden;text-align: left;background-color: #f0f8ff;}#sk-container-id-2 div.sk-toggleable__content pre {margin: 0.2em;color: black;border-radius: 0.25em;background-color: #f0f8ff;}#sk-container-id-2 input.sk-toggleable__control:checked~div.sk-toggleable__content {max-height: 200px;max-width: 100%;overflow: auto;}#sk-container-id-2 input.sk-toggleable__control:checked~label.sk-toggleable__label-arrow:before {content: \"▾\";}#sk-container-id-2 div.sk-estimator input.sk-toggleable__control:checked~label.sk-toggleable__label {background-color: #d4ebff;}#sk-container-id-2 div.sk-label input.sk-toggleable__control:checked~label.sk-toggleable__label {background-color: #d4ebff;}#sk-container-id-2 input.sk-hidden--visually {border: 0;clip: rect(1px 1px 1px 1px);clip: rect(1px, 1px, 1px, 1px);height: 1px;margin: -1px;overflow: hidden;padding: 0;position: absolute;width: 1px;}#sk-container-id-2 div.sk-estimator {font-family: monospace;background-color: #f0f8ff;border: 1px dotted black;border-radius: 0.25em;box-sizing: border-box;margin-bottom: 0.5em;}#sk-container-id-2 div.sk-estimator:hover {background-color: #d4ebff;}#sk-container-id-2 div.sk-parallel-item::after {content: \"\";width: 100%;border-bottom: 1px solid gray;flex-grow: 1;}#sk-container-id-2 div.sk-label:hover label.sk-toggleable__label {background-color: #d4ebff;}#sk-container-id-2 div.sk-serial::before {content: \"\";position: absolute;border-left: 1px solid gray;box-sizing: border-box;top: 0;bottom: 0;left: 50%;z-index: 0;}#sk-container-id-2 div.sk-serial {display: flex;flex-direction: column;align-items: center;background-color: white;padding-right: 0.2em;padding-left: 0.2em;position: relative;}#sk-container-id-2 div.sk-item {position: relative;z-index: 1;}#sk-container-id-2 div.sk-parallel {display: flex;align-items: stretch;justify-content: center;background-color: white;position: relative;}#sk-container-id-2 div.sk-item::before, #sk-container-id-2 div.sk-parallel-item::before {content: \"\";position: absolute;border-left: 1px solid gray;box-sizing: border-box;top: 0;bottom: 0;left: 50%;z-index: -1;}#sk-container-id-2 div.sk-parallel-item {display: flex;flex-direction: column;z-index: 1;position: relative;background-color: white;}#sk-container-id-2 div.sk-parallel-item:first-child::after {align-self: flex-end;width: 50%;}#sk-container-id-2 div.sk-parallel-item:last-child::after {align-self: flex-start;width: 50%;}#sk-container-id-2 div.sk-parallel-item:only-child::after {width: 0;}#sk-container-id-2 div.sk-dashed-wrapped {border: 1px dashed gray;margin: 0 0.4em 0.5em 0.4em;box-sizing: border-box;padding-bottom: 0.4em;background-color: white;}#sk-container-id-2 div.sk-label label {font-family: monospace;font-weight: bold;display: inline-block;line-height: 1.2em;}#sk-container-id-2 div.sk-label-container {text-align: center;}#sk-container-id-2 div.sk-container {/* jupyter's `normalize.less` sets `[hidden] { display: none; }` but bootstrap.min.css set `[hidden] { display: none !important; }` so we also need the `!important` here to be able to override the default hidden behavior on the sphinx rendered scikit-learn.org. See: https://github.com/scikit-learn/scikit-learn/issues/21755 */display: inline-block !important;position: relative;}#sk-container-id-2 div.sk-text-repr-fallback {display: none;}</style><div id=\"sk-container-id-2\" class=\"sk-top-container\"><div class=\"sk-text-repr-fallback\"><pre>LinearRegression()</pre><b>In a Jupyter environment, please rerun this cell to show the HTML representation or trust the notebook. <br />On GitHub, the HTML representation is unable to render, please try loading this page with nbviewer.org.</b></div><div class=\"sk-container\" hidden><div class=\"sk-item\"><div class=\"sk-estimator sk-toggleable\"><input class=\"sk-toggleable__control sk-hidden--visually\" id=\"sk-estimator-id-2\" type=\"checkbox\" checked><label for=\"sk-estimator-id-2\" class=\"sk-toggleable__label sk-toggleable__label-arrow\">LinearRegression</label><div class=\"sk-toggleable__content\"><pre>LinearRegression()</pre></div></div></div></div></div>"
      ],
      "text/plain": [
       "LinearRegression()"
      ]
     },
     "execution_count": 12,
     "metadata": {},
     "output_type": "execute_result"
    }
   ],
   "source": [
    "# Training the linear regression model\n",
    "LR = LinearRegression()\n",
    "LR.fit(X_train, y_train)"
   ]
  },
  {
   "cell_type": "code",
   "execution_count": 16,
   "id": "a5ecac63-9492-4de8-bad9-eba14fe3391f",
   "metadata": {},
   "outputs": [
    {
     "name": "stdout",
     "output_type": "stream",
     "text": [
      "[[ 8.3476823 ]\n",
      " [ 4.81662104]\n",
      " [10.04607379]\n",
      " [ 8.21710217]\n",
      " [ 8.19395067]\n",
      " [ 8.2839789 ]\n",
      " [ 6.96622591]\n",
      " [ 6.10804438]\n",
      " [ 8.94126619]\n",
      " [ 7.48852934]\n",
      " [ 8.8601208 ]\n",
      " [ 5.78851984]\n",
      " [ 7.82362983]\n",
      " [ 7.60586977]\n",
      " [ 6.11154761]\n",
      " [ 6.74001543]\n",
      " [ 5.89767238]\n",
      " [ 4.92517791]\n",
      " [ 7.60354103]\n",
      " [ 8.83665886]]\n"
     ]
    }
   ],
   "source": [
    "# Making predictions using the testing set\n",
    "y_pred = LR.predict(X_test)\n",
    "print(y_pred)"
   ]
  },
  {
   "cell_type": "code",
   "execution_count": 17,
   "id": "4e1aa387-3b91-4b25-a1eb-cd8102a5d620",
   "metadata": {},
   "outputs": [
    {
     "name": "stdout",
     "output_type": "stream",
     "text": [
      "Mean Squared Error: 0.9177532469714291\n"
     ]
    }
   ],
   "source": [
    "# Evaluating the model\n",
    "mse = mean_squared_error(y_test, y_pred)\n",
    "print(f\"Mean Squared Error: {mse}\")"
   ]
  },
  {
   "cell_type": "code",
   "execution_count": 19,
   "id": "894f6df7-08d0-4f13-b4dc-052fe0ea9063",
   "metadata": {},
   "outputs": [
    {
     "data": {
      "image/png": "[encoded data removed]",
      "text/plain": [
       "<Figure size 640x480 with 1 Axes>"
      ]
     },
     "metadata": {},
     "output_type": "display_data"
    }
   ],
   "source": [
    "# Plotting result\n",
    "plt.scatter(X_train, y_train, color='blue', label='Training data')\n",
    "plt.scatter(X_test, y_test, color='green', label='Testing data')\n",
    "plt.plot(X, LR.predict(X), color='red', linewidth=2, label='Regression line')\n",
    "plt.xlabel('Independent variable (X)')\n",
    "plt.ylabel('Dependent variable (y)')\n",
    "plt.title('simple lenear reggression')\n",
    "plt.legend()\n",
    "plt.show()"
   ]
  },
  {
   "cell_type": "code",
   "execution_count": null,
   "id": "16106a08-64d5-464b-a57b-07f84d939fa6",
   "metadata": {},
   "outputs": [],
   "source": []
  }
 ],
 "metadata": {
  "kernelspec": {
   "display_name": "Python 3 (ipykernel)",
   "language": "python",
   "name": "python3"
  },
  "language_info": {
   "codemirror_mode": {
    "name": "ipython",
    "version": 3
   },
   "file_extension": ".py",
   "mimetype": "text/x-python",
   "name": "python",
   "nbconvert_exporter": "python",
   "pygments_lexer": "ipython3",
   "version": "3.11.7"
  }
 },
 "nbformat": 4,
 "nbformat_minor": 5
}
