{
 "cells": [
  {
   "cell_type": "code",
   "execution_count": 5,
   "id": "cc083225-bf84-4a72-a2b9-a2c3bd73f928",
   "metadata": {},
   "outputs": [
    {
     "name": "stdout",
     "output_type": "stream",
     "text": [
      "2\n"
     ]
    }
   ],
   "source": [
    "import numpy as np\n",
    "#create an array\n",
    "array_2D = np.array(\n",
    "    [\n",
    "        [1,2,3],\n",
    "        [4,5,6]\n",
    "    ]\n",
    ")\n",
    "\n",
    "#accessing a single element\n",
    "element = array_2D[0,1]\n",
    "print(element)"
   ]
  },
  {
   "cell_type": "code",
   "execution_count": 7,
   "id": "ddd869cd-17ea-484f-9c19-5046d2d2524c",
   "metadata": {},
   "outputs": [
    {
     "name": "stdout",
     "output_type": "stream",
     "text": [
      "[[4 5 6]]\n"
     ]
    }
   ],
   "source": [
    "#access by row\n",
    "row = array_2D[1:]\n",
    "print(row)"
   ]
  },
  {
   "cell_type": "code",
   "execution_count": 11,
   "id": "ef2df244-57df-4b0f-a1b0-6048720eee52",
   "metadata": {},
   "outputs": [
    {
     "name": "stdout",
     "output_type": "stream",
     "text": [
      "[2 5]\n"
     ]
    }
   ],
   "source": [
    "#access second column\n",
    "column= array_2D[:,1]\n",
    "print(column)"
   ]
  },
  {
   "cell_type": "code",
   "execution_count": 13,
   "id": "558616f2-1925-439e-8add-57264f695bf1",
   "metadata": {},
   "outputs": [
    {
     "name": "stdout",
     "output_type": "stream",
     "text": [
      "[[2 3]\n",
      " [5 6]]\n"
     ]
    }
   ],
   "source": [
    "#slicing\n",
    "\n",
    "slice_array = array_2D[0:2,1:3]\n",
    "print(slice_array)"
   ]
  },
  {
   "cell_type": "code",
   "execution_count": null,
   "id": "b29e4d71-55c1-4606-8000-ecc082e6b515",
   "metadata": {},
   "outputs": [],
   "source": []
  }
 ],
 "metadata": {
  "kernelspec": {
   "display_name": "Python 3 (ipykernel)",
   "language": "python",
   "name": "python3"
  },
  "language_info": {
   "codemirror_mode": {
    "name": "ipython",
    "version": 3
   },
   "file_extension": ".py",
   "mimetype": "text/x-python",
   "name": "python",
   "nbconvert_exporter": "python",
   "pygments_lexer": "ipython3",
   "version": "3.11.7"
  }
 },
 "nbformat": 4,
 "nbformat_minor": 5
}
