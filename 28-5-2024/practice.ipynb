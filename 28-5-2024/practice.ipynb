{
  "nbformat": 4,
  "nbformat_minor": 0,
  "metadata": {
    "colab": {
      "provenance": []
    },
    "kernelspec": {
      "name": "python3",
      "display_name": "Python 3"
    },
    "language_info": {
      "name": "python"
    }
  },
  "cells": [
    {
      "cell_type": "code",
      "execution_count": null,
      "metadata": {
        "colab": {
          "base_uri": "https://localhost:8080/"
        },
        "id": "kmY8mXyP4UYL",
        "outputId": "a4a1dfa2-249d-4f7a-d83d-5b62b2c91959"
      },
      "outputs": [
        {
          "output_type": "stream",
          "name": "stdout",
          "text": [
            "DatetimeIndex(['2022-01-01', '2022-01-02', '2022-01-03', '2022-01-04',\n",
            "               '2022-01-05', '2022-01-06', '2022-01-07'],\n",
            "              dtype='datetime64[ns]', freq='D')\n"
          ]
        }
      ],
      "source": [
        "import pandas as pd\n",
        "\n",
        "# Create a time range with a start and end date\n",
        "start = '2022-01-01'\n",
        "end = '2022-01-07'\n",
        "dates = pd.date_range(start=start, end=end)\n",
        "print(dates)\n"
      ]
    },
    {
      "cell_type": "code",
      "source": [
        "#series: wich one dimentional.\n",
        "#we can create a series with in list,array,dictionaries\n",
        "#each series value have an index value which will start from 0\n",
        "data = [10,2,3,45,65]\n",
        "series = pd.Series(data)\n",
        "\n",
        "print(series)"
      ],
      "metadata": {
        "colab": {
          "base_uri": "https://localhost:8080/"
        },
        "id": "bu43_Buj5bhU",
        "outputId": "2967e028-c2d4-4ef3-ee9b-af06d8336360"
      },
      "execution_count": null,
      "outputs": [
        {
          "output_type": "stream",
          "name": "stdout",
          "text": [
            "45\n"
          ]
        }
      ]
    },
    {
      "cell_type": "code",
      "source": [
        "Data= {\"a\": 10, \"b\": 2, \"c\": 3, \"d\": 45, \"e\": 65}\n",
        "series= pd.Series(Data)\n",
        "print(series)\n",
        "#we can also access element using index value\n",
        "print(series[3])"
      ],
      "metadata": {
        "colab": {
          "base_uri": "https://localhost:8080/"
        },
        "id": "fi-lODZi64_U",
        "outputId": "659b35b7-b681-4573-a720-ac4e7d9747d4"
      },
      "execution_count": null,
      "outputs": [
        {
          "output_type": "stream",
          "name": "stdout",
          "text": [
            "a    10\n",
            "b     2\n",
            "c     3\n",
            "d    45\n",
            "e    65\n",
            "dtype: int64\n",
            "45\n"
          ]
        }
      ]
    },
    {
      "cell_type": "code",
      "source": [
        "#arithmatical operation with the series\n",
        "series_add = series + 10\n",
        "\n",
        "print(series_add)"
      ],
      "metadata": {
        "colab": {
          "base_uri": "https://localhost:8080/"
        },
        "id": "Qw338hJN8FPJ",
        "outputId": "02890a47-45df-4520-d41a-8afc233d5016"
      },
      "execution_count": null,
      "outputs": [
        {
          "output_type": "stream",
          "name": "stdout",
          "text": [
            "a    20\n",
            "b    12\n",
            "c    13\n",
            "d    55\n",
            "e    75\n",
            "dtype: int64\n"
          ]
        }
      ]
    },
    {
      "cell_type": "code",
      "source": [
        "filtered_series = series[series > 9]\n",
        "print(filtered_series)"
      ],
      "metadata": {
        "colab": {
          "base_uri": "https://localhost:8080/"
        },
        "id": "fRmThb3m9MBR",
        "outputId": "ccae3897-cd87-4582-a893-9a4200769431"
      },
      "execution_count": null,
      "outputs": [
        {
          "output_type": "stream",
          "name": "stdout",
          "text": [
            "a    10\n",
            "d    45\n",
            "e    65\n",
            "dtype: int64\n"
          ]
        }
      ]
    },
    {
      "cell_type": "code",
      "source": [
        "#find the mean of the series\n",
        "mean =series_add.mean()\n",
        "print(f\"the mean value of the series is {mean}\")"
      ],
      "metadata": {
        "colab": {
          "base_uri": "https://localhost:8080/"
        },
        "id": "bWtbLh6C-DKT",
        "outputId": "ee708824-3e94-461d-d57a-5733aad2c6c2"
      },
      "execution_count": null,
      "outputs": [
        {
          "output_type": "stream",
          "name": "stdout",
          "text": [
            "the mean value of the series is 35.0\n"
          ]
        }
      ]
    },
    {
      "cell_type": "code",
      "source": [
        "#data frame is two diementional which is in a tabular format.\n",
        "\n",
        "#create a dataframe with a dictionary\n",
        "\n",
        "datas={\n",
        "    'name':['kingni','tuttu','ikka'],\n",
        "    'age':[24,25,24],\n",
        "    'place':['koovode','mavoor','poonoor']\n",
        "}\n",
        "\n",
        "#convert the data into dataframe\n",
        "df = pd.DataFrame(datas)\n",
        "print(df)\n",
        "#for each field from data frame\n",
        "print(df[['name','place']])\n",
        "#for each row access\n",
        "print(df.iloc[2])"
      ],
      "metadata": {
        "colab": {
          "base_uri": "https://localhost:8080/"
        },
        "id": "yHLZnrDjBaCb",
        "outputId": "38ecb2f2-0432-4971-e262-d98a5735c2c1"
      },
      "execution_count": null,
      "outputs": [
        {
          "output_type": "stream",
          "name": "stdout",
          "text": [
            "     name  age    place\n",
            "0  kingni   24  koovode\n",
            "1   tuttu   25   mavoor\n",
            "2    ikka   24  poonoor\n",
            "     name    place\n",
            "0  kingni  koovode\n",
            "1   tuttu   mavoor\n",
            "2    ikka  poonoor\n",
            "name        ikka\n",
            "age           24\n",
            "place    poonoor\n",
            "Name: 2, dtype: object\n"
          ]
        }
      ]
    },
    {
      "cell_type": "code",
      "source": [
        "#add a new  column into the dataframe\n",
        "df['stiphant']=[15000,5000,5000]\n",
        "print(df)"
      ],
      "metadata": {
        "colab": {
          "base_uri": "https://localhost:8080/"
        },
        "id": "NbBAwRSlbnpJ",
        "outputId": "655b80e5-d1c4-4321-f17c-cb19d896ffc8"
      },
      "execution_count": null,
      "outputs": [
        {
          "output_type": "stream",
          "name": "stdout",
          "text": [
            "     name  age    place  stiphant\n",
            "0  kingni   24  koovode     15000\n",
            "1   tuttu   25   mavoor      5000\n",
            "2    ikka   24  poonoor      5000\n"
          ]
        }
      ]
    },
    {
      "cell_type": "code",
      "source": [
        "#remove a column\n",
        "df = df.drop(columns=['age'])\n",
        "print(df)"
      ],
      "metadata": {
        "colab": {
          "base_uri": "https://localhost:8080/"
        },
        "id": "D0N3NkROdAJK",
        "outputId": "4fc9a73a-cc41-4812-9fbb-f2938470bce4"
      },
      "execution_count": null,
      "outputs": [
        {
          "output_type": "stream",
          "name": "stdout",
          "text": [
            "     name    place  stiphant\n",
            "0  kingni  koovode     15000\n",
            "1   tuttu   mavoor      5000\n",
            "2    ikka  poonoor      5000\n"
          ]
        }
      ]
    },
    {
      "cell_type": "code",
      "source": [
        "#statitical function\n",
        "#describe() help get the summary of statics of your data frame\n",
        "\n",
        "print(df.describe())"
      ],
      "metadata": {
        "colab": {
          "base_uri": "https://localhost:8080/"
        },
        "id": "U2Ht56JNdbGu",
        "outputId": "8fe01033-6df4-4b30-ac8b-80dd33f8159b"
      },
      "execution_count": null,
      "outputs": [
        {
          "output_type": "stream",
          "name": "stdout",
          "text": [
            "           stiphant\n",
            "count      3.000000\n",
            "mean    8333.333333\n",
            "std     5773.502692\n",
            "min     5000.000000\n",
            "25%     5000.000000\n",
            "50%     5000.000000\n",
            "75%    10000.000000\n",
            "max    15000.000000\n"
          ]
        }
      ]
    }
  ]
}